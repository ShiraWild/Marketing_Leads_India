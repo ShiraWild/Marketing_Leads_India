{
  "nbformat": 4,
  "nbformat_minor": 0,
  "metadata": {
    "colab": {
      "name": "Untitled43.ipynb",
      "provenance": [],
      "collapsed_sections": []
    },
    "kernelspec": {
      "name": "python3",
      "display_name": "Python 3"
    },
    "language_info": {
      "name": "python"
    }
  },
  "cells": [
    {
      "cell_type": "markdown",
      "source": [
        "## Interview for buzzer.ai \n",
        "Candidate: Shira Wild"
      ],
      "metadata": {
        "id": "ILQ0g7u2HEdN"
      }
    },
    {
      "cell_type": "markdown",
      "source": [
        "## Installations and Imports\n",
        " "
      ],
      "metadata": {
        "id": "kgq3N5R9BQpu"
      }
    },
    {
      "cell_type": "code",
      "execution_count": 1,
      "metadata": {
        "id": "CUs7Rskf2ajm"
      },
      "outputs": [],
      "source": [
        "#Imports\n",
        "import pandas as pd\n",
        "import seaborn as sns\n",
        "import matplotlib.pyplot as plt\n",
        "from sklearn.model_selection import train_test_split\n",
        "import missingno as msno\n",
        "from sklearn.preprocessing import StandardScaler\n",
        "import numpy as np \n",
        "from sklearn import preprocessing\n",
        "from sklearn.preprocessing import OneHotEncoder\n",
        "from sklearn.ensemble import RandomForestClassifier\n",
        "from sklearn.pipeline import Pipeline\n",
        "from sklearn.svm import SVC\n",
        "from sklearn.tree import DecisionTreeClassifier\n",
        "from sklearn.linear_model import LogisticRegression\n",
        "from sklearn.model_selection import GridSearchCV\n",
        "import xgboost as xgb\n",
        "import pandas as pd\n",
        "from sklearn.ensemble import RandomForestClassifier\n",
        "from sklearn.feature_selection import SelectFromModel\n",
        "import warnings\n",
        " \n"
      ]
    },
    {
      "cell_type": "code",
      "source": [
        "#Read the data\n",
        "data = pd.read_csv(\"Marketing_Leads_India.csv\")"
      ],
      "metadata": {
        "id": "q-LkuLBw2xKn"
      },
      "execution_count": 2,
      "outputs": []
    },
    {
      "cell_type": "code",
      "source": [
        "# Split to train and test data\n",
        "train_data, test_data = train_test_split(data, test_size=0.2, random_state=42)"
      ],
      "metadata": {
        "id": "9bPMareY4TFW"
      },
      "execution_count": 3,
      "outputs": []
    },
    {
      "cell_type": "markdown",
      "source": [
        "### Train Data"
      ],
      "metadata": {
        "id": "SOWiyr8KBgFc"
      }
    },
    {
      "cell_type": "markdown",
      "source": [
        "First, let's take a look at our data:"
      ],
      "metadata": {
        "id": "Qos1PtDvBmiO"
      }
    },
    {
      "cell_type": "code",
      "source": [
        "train_data.head()"
      ],
      "metadata": {
        "id": "MeWuWMQFBgvS",
        "colab": {
          "base_uri": "https://localhost:8080/",
          "height": 436
        },
        "outputId": "efbdb9ae-428d-4cac-d2f0-8909a92aa62c"
      },
      "execution_count": 4,
      "outputs": [
        {
          "output_type": "execute_result",
          "data": {
            "text/plain": [
              "      Lead Number              Lead Origin     Lead Source Do Not Email  \\\n",
              "6487       600123  Landing Page Submission  Organic Search          Yes   \n",
              "4759       614204                      API      Olark Chat           No   \n",
              "4368       617857                      API          Google           No   \n",
              "1467       644758  Landing Page Submission          Google           No   \n",
              "5517       607605  Landing Page Submission  Direct Traffic           No   \n",
              "\n",
              "     Do Not Call  Converted  TotalVisits  Total Time Spent on Website  \\\n",
              "6487          No          0          2.0                          239   \n",
              "4759          No          0          0.0                            0   \n",
              "4368          No          0          3.0                          396   \n",
              "1467          No          1          4.0                          894   \n",
              "5517          No          0          2.0                          143   \n",
              "\n",
              "      Page Views Per Visit            Last Activity  ...  \\\n",
              "6487                   2.0                 SMS Sent  ...   \n",
              "4759                   0.0  Olark Chat Conversation  ...   \n",
              "4368                   3.0             Email Opened  ...   \n",
              "1467                   4.0                 SMS Sent  ...   \n",
              "5517                   2.0        Converted to Lead  ...   \n",
              "\n",
              "     Get updates on DM Content           Lead Profile               City  \\\n",
              "6487                        No                    NaN  Thane & Outskirts   \n",
              "4759                        No                    NaN                NaN   \n",
              "4368                        No  Student of SomeSchool                NaN   \n",
              "1467                        No                    NaN  Thane & Outskirts   \n",
              "5517                        No                    NaN     Tier II Cities   \n",
              "\n",
              "     Asymmetrique Activity Index Asymmetrique Profile Index  \\\n",
              "6487                         NaN                        NaN   \n",
              "4759                         NaN                        NaN   \n",
              "4368                         NaN                        NaN   \n",
              "1467                   02.Medium                  02.Medium   \n",
              "5517                         NaN                        NaN   \n",
              "\n",
              "     Asymmetrique Activity Score Asymmetrique Profile Score  \\\n",
              "6487                         NaN                        NaN   \n",
              "4759                         NaN                        NaN   \n",
              "4368                         NaN                        NaN   \n",
              "1467                        15.0                       14.0   \n",
              "5517                         NaN                        NaN   \n",
              "\n",
              "     I agree to pay the amount through cheque  \\\n",
              "6487                                       No   \n",
              "4759                                       No   \n",
              "4368                                       No   \n",
              "1467                                       No   \n",
              "5517                                       No   \n",
              "\n",
              "     A free copy of Mastering The Interview Last Notable Activity  \n",
              "6487                                     No              SMS Sent  \n",
              "4759                                     No              Modified  \n",
              "4368                                     No          Email Opened  \n",
              "1467                                     No              SMS Sent  \n",
              "5517                                    Yes              Modified  \n",
              "\n",
              "[5 rows x 36 columns]"
            ],
            "text/html": [
              "\n",
              "  <div id=\"df-32739a1e-4763-4335-9354-bb7b6005ab3d\">\n",
              "    <div class=\"colab-df-container\">\n",
              "      <div>\n",
              "<style scoped>\n",
              "    .dataframe tbody tr th:only-of-type {\n",
              "        vertical-align: middle;\n",
              "    }\n",
              "\n",
              "    .dataframe tbody tr th {\n",
              "        vertical-align: top;\n",
              "    }\n",
              "\n",
              "    .dataframe thead th {\n",
              "        text-align: right;\n",
              "    }\n",
              "</style>\n",
              "<table border=\"1\" class=\"dataframe\">\n",
              "  <thead>\n",
              "    <tr style=\"text-align: right;\">\n",
              "      <th></th>\n",
              "      <th>Lead Number</th>\n",
              "      <th>Lead Origin</th>\n",
              "      <th>Lead Source</th>\n",
              "      <th>Do Not Email</th>\n",
              "      <th>Do Not Call</th>\n",
              "      <th>Converted</th>\n",
              "      <th>TotalVisits</th>\n",
              "      <th>Total Time Spent on Website</th>\n",
              "      <th>Page Views Per Visit</th>\n",
              "      <th>Last Activity</th>\n",
              "      <th>...</th>\n",
              "      <th>Get updates on DM Content</th>\n",
              "      <th>Lead Profile</th>\n",
              "      <th>City</th>\n",
              "      <th>Asymmetrique Activity Index</th>\n",
              "      <th>Asymmetrique Profile Index</th>\n",
              "      <th>Asymmetrique Activity Score</th>\n",
              "      <th>Asymmetrique Profile Score</th>\n",
              "      <th>I agree to pay the amount through cheque</th>\n",
              "      <th>A free copy of Mastering The Interview</th>\n",
              "      <th>Last Notable Activity</th>\n",
              "    </tr>\n",
              "  </thead>\n",
              "  <tbody>\n",
              "    <tr>\n",
              "      <th>6487</th>\n",
              "      <td>600123</td>\n",
              "      <td>Landing Page Submission</td>\n",
              "      <td>Organic Search</td>\n",
              "      <td>Yes</td>\n",
              "      <td>No</td>\n",
              "      <td>0</td>\n",
              "      <td>2.0</td>\n",
              "      <td>239</td>\n",
              "      <td>2.0</td>\n",
              "      <td>SMS Sent</td>\n",
              "      <td>...</td>\n",
              "      <td>No</td>\n",
              "      <td>NaN</td>\n",
              "      <td>Thane &amp; Outskirts</td>\n",
              "      <td>NaN</td>\n",
              "      <td>NaN</td>\n",
              "      <td>NaN</td>\n",
              "      <td>NaN</td>\n",
              "      <td>No</td>\n",
              "      <td>No</td>\n",
              "      <td>SMS Sent</td>\n",
              "    </tr>\n",
              "    <tr>\n",
              "      <th>4759</th>\n",
              "      <td>614204</td>\n",
              "      <td>API</td>\n",
              "      <td>Olark Chat</td>\n",
              "      <td>No</td>\n",
              "      <td>No</td>\n",
              "      <td>0</td>\n",
              "      <td>0.0</td>\n",
              "      <td>0</td>\n",
              "      <td>0.0</td>\n",
              "      <td>Olark Chat Conversation</td>\n",
              "      <td>...</td>\n",
              "      <td>No</td>\n",
              "      <td>NaN</td>\n",
              "      <td>NaN</td>\n",
              "      <td>NaN</td>\n",
              "      <td>NaN</td>\n",
              "      <td>NaN</td>\n",
              "      <td>NaN</td>\n",
              "      <td>No</td>\n",
              "      <td>No</td>\n",
              "      <td>Modified</td>\n",
              "    </tr>\n",
              "    <tr>\n",
              "      <th>4368</th>\n",
              "      <td>617857</td>\n",
              "      <td>API</td>\n",
              "      <td>Google</td>\n",
              "      <td>No</td>\n",
              "      <td>No</td>\n",
              "      <td>0</td>\n",
              "      <td>3.0</td>\n",
              "      <td>396</td>\n",
              "      <td>3.0</td>\n",
              "      <td>Email Opened</td>\n",
              "      <td>...</td>\n",
              "      <td>No</td>\n",
              "      <td>Student of SomeSchool</td>\n",
              "      <td>NaN</td>\n",
              "      <td>NaN</td>\n",
              "      <td>NaN</td>\n",
              "      <td>NaN</td>\n",
              "      <td>NaN</td>\n",
              "      <td>No</td>\n",
              "      <td>No</td>\n",
              "      <td>Email Opened</td>\n",
              "    </tr>\n",
              "    <tr>\n",
              "      <th>1467</th>\n",
              "      <td>644758</td>\n",
              "      <td>Landing Page Submission</td>\n",
              "      <td>Google</td>\n",
              "      <td>No</td>\n",
              "      <td>No</td>\n",
              "      <td>1</td>\n",
              "      <td>4.0</td>\n",
              "      <td>894</td>\n",
              "      <td>4.0</td>\n",
              "      <td>SMS Sent</td>\n",
              "      <td>...</td>\n",
              "      <td>No</td>\n",
              "      <td>NaN</td>\n",
              "      <td>Thane &amp; Outskirts</td>\n",
              "      <td>02.Medium</td>\n",
              "      <td>02.Medium</td>\n",
              "      <td>15.0</td>\n",
              "      <td>14.0</td>\n",
              "      <td>No</td>\n",
              "      <td>No</td>\n",
              "      <td>SMS Sent</td>\n",
              "    </tr>\n",
              "    <tr>\n",
              "      <th>5517</th>\n",
              "      <td>607605</td>\n",
              "      <td>Landing Page Submission</td>\n",
              "      <td>Direct Traffic</td>\n",
              "      <td>No</td>\n",
              "      <td>No</td>\n",
              "      <td>0</td>\n",
              "      <td>2.0</td>\n",
              "      <td>143</td>\n",
              "      <td>2.0</td>\n",
              "      <td>Converted to Lead</td>\n",
              "      <td>...</td>\n",
              "      <td>No</td>\n",
              "      <td>NaN</td>\n",
              "      <td>Tier II Cities</td>\n",
              "      <td>NaN</td>\n",
              "      <td>NaN</td>\n",
              "      <td>NaN</td>\n",
              "      <td>NaN</td>\n",
              "      <td>No</td>\n",
              "      <td>Yes</td>\n",
              "      <td>Modified</td>\n",
              "    </tr>\n",
              "  </tbody>\n",
              "</table>\n",
              "<p>5 rows × 36 columns</p>\n",
              "</div>\n",
              "      <button class=\"colab-df-convert\" onclick=\"convertToInteractive('df-32739a1e-4763-4335-9354-bb7b6005ab3d')\"\n",
              "              title=\"Convert this dataframe to an interactive table.\"\n",
              "              style=\"display:none;\">\n",
              "        \n",
              "  <svg xmlns=\"http://www.w3.org/2000/svg\" height=\"24px\"viewBox=\"0 0 24 24\"\n",
              "       width=\"24px\">\n",
              "    <path d=\"M0 0h24v24H0V0z\" fill=\"none\"/>\n",
              "    <path d=\"M18.56 5.44l.94 2.06.94-2.06 2.06-.94-2.06-.94-.94-2.06-.94 2.06-2.06.94zm-11 1L8.5 8.5l.94-2.06 2.06-.94-2.06-.94L8.5 2.5l-.94 2.06-2.06.94zm10 10l.94 2.06.94-2.06 2.06-.94-2.06-.94-.94-2.06-.94 2.06-2.06.94z\"/><path d=\"M17.41 7.96l-1.37-1.37c-.4-.4-.92-.59-1.43-.59-.52 0-1.04.2-1.43.59L10.3 9.45l-7.72 7.72c-.78.78-.78 2.05 0 2.83L4 21.41c.39.39.9.59 1.41.59.51 0 1.02-.2 1.41-.59l7.78-7.78 2.81-2.81c.8-.78.8-2.07 0-2.86zM5.41 20L4 18.59l7.72-7.72 1.47 1.35L5.41 20z\"/>\n",
              "  </svg>\n",
              "      </button>\n",
              "      \n",
              "  <style>\n",
              "    .colab-df-container {\n",
              "      display:flex;\n",
              "      flex-wrap:wrap;\n",
              "      gap: 12px;\n",
              "    }\n",
              "\n",
              "    .colab-df-convert {\n",
              "      background-color: #E8F0FE;\n",
              "      border: none;\n",
              "      border-radius: 50%;\n",
              "      cursor: pointer;\n",
              "      display: none;\n",
              "      fill: #1967D2;\n",
              "      height: 32px;\n",
              "      padding: 0 0 0 0;\n",
              "      width: 32px;\n",
              "    }\n",
              "\n",
              "    .colab-df-convert:hover {\n",
              "      background-color: #E2EBFA;\n",
              "      box-shadow: 0px 1px 2px rgba(60, 64, 67, 0.3), 0px 1px 3px 1px rgba(60, 64, 67, 0.15);\n",
              "      fill: #174EA6;\n",
              "    }\n",
              "\n",
              "    [theme=dark] .colab-df-convert {\n",
              "      background-color: #3B4455;\n",
              "      fill: #D2E3FC;\n",
              "    }\n",
              "\n",
              "    [theme=dark] .colab-df-convert:hover {\n",
              "      background-color: #434B5C;\n",
              "      box-shadow: 0px 1px 3px 1px rgba(0, 0, 0, 0.15);\n",
              "      filter: drop-shadow(0px 1px 2px rgba(0, 0, 0, 0.3));\n",
              "      fill: #FFFFFF;\n",
              "    }\n",
              "  </style>\n",
              "\n",
              "      <script>\n",
              "        const buttonEl =\n",
              "          document.querySelector('#df-32739a1e-4763-4335-9354-bb7b6005ab3d button.colab-df-convert');\n",
              "        buttonEl.style.display =\n",
              "          google.colab.kernel.accessAllowed ? 'block' : 'none';\n",
              "\n",
              "        async function convertToInteractive(key) {\n",
              "          const element = document.querySelector('#df-32739a1e-4763-4335-9354-bb7b6005ab3d');\n",
              "          const dataTable =\n",
              "            await google.colab.kernel.invokeFunction('convertToInteractive',\n",
              "                                                     [key], {});\n",
              "          if (!dataTable) return;\n",
              "\n",
              "          const docLinkHtml = 'Like what you see? Visit the ' +\n",
              "            '<a target=\"_blank\" href=https://colab.research.google.com/notebooks/data_table.ipynb>data table notebook</a>'\n",
              "            + ' to learn more about interactive tables.';\n",
              "          element.innerHTML = '';\n",
              "          dataTable['output_type'] = 'display_data';\n",
              "          await google.colab.output.renderOutput(dataTable, element);\n",
              "          const docLink = document.createElement('div');\n",
              "          docLink.innerHTML = docLinkHtml;\n",
              "          element.appendChild(docLink);\n",
              "        }\n",
              "      </script>\n",
              "    </div>\n",
              "  </div>\n",
              "  "
            ]
          },
          "metadata": {},
          "execution_count": 4
        }
      ]
    },
    {
      "cell_type": "code",
      "source": [
        "train_data.shape"
      ],
      "metadata": {
        "id": "UB8zxRmBYM9h",
        "colab": {
          "base_uri": "https://localhost:8080/"
        },
        "outputId": "f8c82fc1-cc79-46ac-d660-f75458c61de8"
      },
      "execution_count": 5,
      "outputs": [
        {
          "output_type": "execute_result",
          "data": {
            "text/plain": [
              "(7392, 36)"
            ]
          },
          "metadata": {},
          "execution_count": 5
        }
      ]
    },
    {
      "cell_type": "code",
      "source": [
        "train_data.info()"
      ],
      "metadata": {
        "id": "madzAKFbBowj",
        "colab": {
          "base_uri": "https://localhost:8080/"
        },
        "outputId": "997a26d2-169e-4e79-e2ca-08ead80b1b2e"
      },
      "execution_count": 6,
      "outputs": [
        {
          "output_type": "stream",
          "name": "stdout",
          "text": [
            "<class 'pandas.core.frame.DataFrame'>\n",
            "Int64Index: 7392 entries, 6487 to 7270\n",
            "Data columns (total 36 columns):\n",
            " #   Column                                         Non-Null Count  Dtype  \n",
            "---  ------                                         --------------  -----  \n",
            " 0   Lead Number                                    7392 non-null   int64  \n",
            " 1   Lead Origin                                    7392 non-null   object \n",
            " 2   Lead Source                                    7363 non-null   object \n",
            " 3   Do Not Email                                   7392 non-null   object \n",
            " 4   Do Not Call                                    7392 non-null   object \n",
            " 5   Converted                                      7392 non-null   int64  \n",
            " 6   TotalVisits                                    7290 non-null   float64\n",
            " 7   Total Time Spent on Website                    7392 non-null   int64  \n",
            " 8   Page Views Per Visit                           7290 non-null   float64\n",
            " 9   Last Activity                                  7316 non-null   object \n",
            " 10  Country                                        7392 non-null   object \n",
            " 11  Specialization                                 7392 non-null   object \n",
            " 12  How did you hear about X Education             1600 non-null   object \n",
            " 13  What is your current occupation                7392 non-null   object \n",
            " 14  What matters most to you in choosing a course  5211 non-null   object \n",
            " 15  Search                                         7392 non-null   object \n",
            " 16  Magazine                                       7392 non-null   object \n",
            " 17  Newspaper Article                              7392 non-null   object \n",
            " 18  X Education Forums                             7392 non-null   object \n",
            " 19  Newspaper                                      7392 non-null   object \n",
            " 20  Digital Advertisement                          7392 non-null   object \n",
            " 21  Through Recommendations                        7392 non-null   object \n",
            " 22  Receive More Updates About Our Courses         7392 non-null   object \n",
            " 23  Tags                                           7392 non-null   object \n",
            " 24  Lead Quality                                   7392 non-null   object \n",
            " 25  Update me on Supply Chain Content              7392 non-null   object \n",
            " 26  Get updates on DM Content                      7392 non-null   object \n",
            " 27  Lead Profile                                   1903 non-null   object \n",
            " 28  City                                           4480 non-null   object \n",
            " 29  Asymmetrique Activity Index                    4027 non-null   object \n",
            " 30  Asymmetrique Profile Index                     4027 non-null   object \n",
            " 31  Asymmetrique Activity Score                    4027 non-null   float64\n",
            " 32  Asymmetrique Profile Score                     4027 non-null   float64\n",
            " 33  I agree to pay the amount through cheque       7392 non-null   object \n",
            " 34  A free copy of Mastering The Interview         7392 non-null   object \n",
            " 35  Last Notable Activity                          7392 non-null   object \n",
            "dtypes: float64(4), int64(3), object(29)\n",
            "memory usage: 2.1+ MB\n"
          ]
        }
      ]
    },
    {
      "cell_type": "markdown",
      "source": [
        "We will check if the class labels of the data are balanced "
      ],
      "metadata": {
        "id": "swk7uznmYSGS"
      }
    },
    {
      "cell_type": "code",
      "source": [
        "# plot the class values\n",
        "g = sns.countplot(train_data['Converted'])\n",
        "g.set_xticklabels(['No', 'Yes'])\n",
        "plt.title('Class Labels Count - Train Data')\n",
        "plt.show()"
      ],
      "metadata": {
        "id": "UssKBYHeBsie",
        "colab": {
          "base_uri": "https://localhost:8080/",
          "height": 350
        },
        "outputId": "716a1162-f069-407c-a6f4-df22507e31e0"
      },
      "execution_count": 7,
      "outputs": [
        {
          "output_type": "stream",
          "name": "stderr",
          "text": [
            "/usr/local/lib/python3.7/dist-packages/seaborn/_decorators.py:43: FutureWarning: Pass the following variable as a keyword arg: x. From version 0.12, the only valid positional argument will be `data`, and passing other arguments without an explicit keyword will result in an error or misinterpretation.\n",
            "  FutureWarning\n"
          ]
        },
        {
          "output_type": "display_data",
          "data": {
            "text/plain": [
              "<Figure size 432x288 with 1 Axes>"
            ],
            "image/png": "[encoded data removed]"
          },
          "metadata": {
            "needs_background": "light"
          }
        }
      ]
    },
    {
      "cell_type": "markdown",
      "source": [
        "As we can see, the class labels count are pretty balanced. "
      ],
      "metadata": {
        "id": "bwSkGMk8B3fz"
      }
    },
    {
      "cell_type": "markdown",
      "source": [
        "### Test data"
      ],
      "metadata": {
        "id": "iYKdEYR-B_zn"
      }
    },
    {
      "cell_type": "code",
      "source": [
        "test_data.head()"
      ],
      "metadata": {
        "id": "Bo3QCIF9CAqa",
        "colab": {
          "base_uri": "https://localhost:8080/",
          "height": 436
        },
        "outputId": "7803b7c8-848a-4e6a-8bdd-9303421e737a"
      },
      "execution_count": 8,
      "outputs": [
        {
          "output_type": "execute_result",
          "data": {
            "text/plain": [
              "      Lead Number              Lead Origin     Lead Source Do Not Email  \\\n",
              "4608       615582  Landing Page Submission          Google           No   \n",
              "7935       588939  Landing Page Submission  Direct Traffic          Yes   \n",
              "4043       621242  Landing Page Submission  Direct Traffic          Yes   \n",
              "7821       589803  Landing Page Submission  Direct Traffic           No   \n",
              "856        651441  Landing Page Submission          Google           No   \n",
              "\n",
              "     Do Not Call  Converted  TotalVisits  Total Time Spent on Website  \\\n",
              "4608          No          1          8.0                          252   \n",
              "7935          No          0          2.0                          929   \n",
              "4043          No          0          1.0                            2   \n",
              "7821          No          0          2.0                          323   \n",
              "856           No          0          3.0                          201   \n",
              "\n",
              "      Page Views Per Visit  Last Activity  ... Get updates on DM Content  \\\n",
              "4608                  2.67   Email Opened  ...                        No   \n",
              "7935                  2.00  Email Bounced  ...                        No   \n",
              "4043                  1.00  Email Bounced  ...                        No   \n",
              "7821                  2.00   Email Opened  ...                        No   \n",
              "856                   3.00   Email Opened  ...                        No   \n",
              "\n",
              "     Lead Profile          City Asymmetrique Activity Index  \\\n",
              "4608          NaN        Mumbai                         NaN   \n",
              "7935          NaN  Other Cities                   02.Medium   \n",
              "4043          NaN  Other Cities                         NaN   \n",
              "7821          NaN        Mumbai                   02.Medium   \n",
              "856           NaN        Mumbai                   02.Medium   \n",
              "\n",
              "     Asymmetrique Profile Index Asymmetrique Activity Score  \\\n",
              "4608                        NaN                         NaN   \n",
              "7935                  02.Medium                        14.0   \n",
              "4043                        NaN                         NaN   \n",
              "7821                    01.High                        14.0   \n",
              "856                     01.High                        13.0   \n",
              "\n",
              "     Asymmetrique Profile Score I agree to pay the amount through cheque  \\\n",
              "4608                        NaN                                       No   \n",
              "7935                       16.0                                       No   \n",
              "4043                        NaN                                       No   \n",
              "7821                       18.0                                       No   \n",
              "856                        18.0                                       No   \n",
              "\n",
              "     A free copy of Mastering The Interview Last Notable Activity  \n",
              "4608                                    Yes          Email Opened  \n",
              "7935                                    Yes              Modified  \n",
              "4043                                     No              Modified  \n",
              "7821                                     No          Email Opened  \n",
              "856                                      No          Email Opened  \n",
              "\n",
              "[5 rows x 36 columns]"
            ],
            "text/html": [
              "\n",
              "  <div id=\"df-faeb2b5b-f22a-4f56-ae48-61534274f3cd\">\n",
              "    <div class=\"colab-df-container\">\n",
              "      <div>\n",
              "<style scoped>\n",
              "    .dataframe tbody tr th:only-of-type {\n",
              "        vertical-align: middle;\n",
              "    }\n",
              "\n",
              "    .dataframe tbody tr th {\n",
              "        vertical-align: top;\n",
              "    }\n",
              "\n",
              "    .dataframe thead th {\n",
              "        text-align: right;\n",
              "    }\n",
              "</style>\n",
              "<table border=\"1\" class=\"dataframe\">\n",
              "  <thead>\n",
              "    <tr style=\"text-align: right;\">\n",
              "      <th></th>\n",
              "      <th>Lead Number</th>\n",
              "      <th>Lead Origin</th>\n",
              "      <th>Lead Source</th>\n",
              "      <th>Do Not Email</th>\n",
              "      <th>Do Not Call</th>\n",
              "      <th>Converted</th>\n",
              "      <th>TotalVisits</th>\n",
              "      <th>Total Time Spent on Website</th>\n",
              "      <th>Page Views Per Visit</th>\n",
              "      <th>Last Activity</th>\n",
              "      <th>...</th>\n",
              "      <th>Get updates on DM Content</th>\n",
              "      <th>Lead Profile</th>\n",
              "      <th>City</th>\n",
              "      <th>Asymmetrique Activity Index</th>\n",
              "      <th>Asymmetrique Profile Index</th>\n",
              "      <th>Asymmetrique Activity Score</th>\n",
              "      <th>Asymmetrique Profile Score</th>\n",
              "      <th>I agree to pay the amount through cheque</th>\n",
              "      <th>A free copy of Mastering The Interview</th>\n",
              "      <th>Last Notable Activity</th>\n",
              "    </tr>\n",
              "  </thead>\n",
              "  <tbody>\n",
              "    <tr>\n",
              "      <th>4608</th>\n",
              "      <td>615582</td>\n",
              "      <td>Landing Page Submission</td>\n",
              "      <td>Google</td>\n",
              "      <td>No</td>\n",
              "      <td>No</td>\n",
              "      <td>1</td>\n",
              "      <td>8.0</td>\n",
              "      <td>252</td>\n",
              "      <td>2.67</td>\n",
              "      <td>Email Opened</td>\n",
              "      <td>...</td>\n",
              "      <td>No</td>\n",
              "      <td>NaN</td>\n",
              "      <td>Mumbai</td>\n",
              "      <td>NaN</td>\n",
              "      <td>NaN</td>\n",
              "      <td>NaN</td>\n",
              "      <td>NaN</td>\n",
              "      <td>No</td>\n",
              "      <td>Yes</td>\n",
              "      <td>Email Opened</td>\n",
              "    </tr>\n",
              "    <tr>\n",
              "      <th>7935</th>\n",
              "      <td>588939</td>\n",
              "      <td>Landing Page Submission</td>\n",
              "      <td>Direct Traffic</td>\n",
              "      <td>Yes</td>\n",
              "      <td>No</td>\n",
              "      <td>0</td>\n",
              "      <td>2.0</td>\n",
              "      <td>929</td>\n",
              "      <td>2.00</td>\n",
              "      <td>Email Bounced</td>\n",
              "      <td>...</td>\n",
              "      <td>No</td>\n",
              "      <td>NaN</td>\n",
              "      <td>Other Cities</td>\n",
              "      <td>02.Medium</td>\n",
              "      <td>02.Medium</td>\n",
              "      <td>14.0</td>\n",
              "      <td>16.0</td>\n",
              "      <td>No</td>\n",
              "      <td>Yes</td>\n",
              "      <td>Modified</td>\n",
              "    </tr>\n",
              "    <tr>\n",
              "      <th>4043</th>\n",
              "      <td>621242</td>\n",
              "      <td>Landing Page Submission</td>\n",
              "      <td>Direct Traffic</td>\n",
              "      <td>Yes</td>\n",
              "      <td>No</td>\n",
              "      <td>0</td>\n",
              "      <td>1.0</td>\n",
              "      <td>2</td>\n",
              "      <td>1.00</td>\n",
              "      <td>Email Bounced</td>\n",
              "      <td>...</td>\n",
              "      <td>No</td>\n",
              "      <td>NaN</td>\n",
              "      <td>Other Cities</td>\n",
              "      <td>NaN</td>\n",
              "      <td>NaN</td>\n",
              "      <td>NaN</td>\n",
              "      <td>NaN</td>\n",
              "      <td>No</td>\n",
              "      <td>No</td>\n",
              "      <td>Modified</td>\n",
              "    </tr>\n",
              "    <tr>\n",
              "      <th>7821</th>\n",
              "      <td>589803</td>\n",
              "      <td>Landing Page Submission</td>\n",
              "      <td>Direct Traffic</td>\n",
              "      <td>No</td>\n",
              "      <td>No</td>\n",
              "      <td>0</td>\n",
              "      <td>2.0</td>\n",
              "      <td>323</td>\n",
              "      <td>2.00</td>\n",
              "      <td>Email Opened</td>\n",
              "      <td>...</td>\n",
              "      <td>No</td>\n",
              "      <td>NaN</td>\n",
              "      <td>Mumbai</td>\n",
              "      <td>02.Medium</td>\n",
              "      <td>01.High</td>\n",
              "      <td>14.0</td>\n",
              "      <td>18.0</td>\n",
              "      <td>No</td>\n",
              "      <td>No</td>\n",
              "      <td>Email Opened</td>\n",
              "    </tr>\n",
              "    <tr>\n",
              "      <th>856</th>\n",
              "      <td>651441</td>\n",
              "      <td>Landing Page Submission</td>\n",
              "      <td>Google</td>\n",
              "      <td>No</td>\n",
              "      <td>No</td>\n",
              "      <td>0</td>\n",
              "      <td>3.0</td>\n",
              "      <td>201</td>\n",
              "      <td>3.00</td>\n",
              "      <td>Email Opened</td>\n",
              "      <td>...</td>\n",
              "      <td>No</td>\n",
              "      <td>NaN</td>\n",
              "      <td>Mumbai</td>\n",
              "      <td>02.Medium</td>\n",
              "      <td>01.High</td>\n",
              "      <td>13.0</td>\n",
              "      <td>18.0</td>\n",
              "      <td>No</td>\n",
              "      <td>No</td>\n",
              "      <td>Email Opened</td>\n",
              "    </tr>\n",
              "  </tbody>\n",
              "</table>\n",
              "<p>5 rows × 36 columns</p>\n",
              "</div>\n",
              "      <button class=\"colab-df-convert\" onclick=\"convertToInteractive('df-faeb2b5b-f22a-4f56-ae48-61534274f3cd')\"\n",
              "              title=\"Convert this dataframe to an interactive table.\"\n",
              "              style=\"display:none;\">\n",
              "        \n",
              "  <svg xmlns=\"http://www.w3.org/2000/svg\" height=\"24px\"viewBox=\"0 0 24 24\"\n",
              "       width=\"24px\">\n",
              "    <path d=\"M0 0h24v24H0V0z\" fill=\"none\"/>\n",
              "    <path d=\"M18.56 5.44l.94 2.06.94-2.06 2.06-.94-2.06-.94-.94-2.06-.94 2.06-2.06.94zm-11 1L8.5 8.5l.94-2.06 2.06-.94-2.06-.94L8.5 2.5l-.94 2.06-2.06.94zm10 10l.94 2.06.94-2.06 2.06-.94-2.06-.94-.94-2.06-.94 2.06-2.06.94z\"/><path d=\"M17.41 7.96l-1.37-1.37c-.4-.4-.92-.59-1.43-.59-.52 0-1.04.2-1.43.59L10.3 9.45l-7.72 7.72c-.78.78-.78 2.05 0 2.83L4 21.41c.39.39.9.59 1.41.59.51 0 1.02-.2 1.41-.59l7.78-7.78 2.81-2.81c.8-.78.8-2.07 0-2.86zM5.41 20L4 18.59l7.72-7.72 1.47 1.35L5.41 20z\"/>\n",
              "  </svg>\n",
              "      </button>\n",
              "      \n",
              "  <style>\n",
              "    .colab-df-container {\n",
              "      display:flex;\n",
              "      flex-wrap:wrap;\n",
              "      gap: 12px;\n",
              "    }\n",
              "\n",
              "    .colab-df-convert {\n",
              "      background-color: #E8F0FE;\n",
              "      border: none;\n",
              "      border-radius: 50%;\n",
              "      cursor: pointer;\n",
              "      display: none;\n",
              "      fill: #1967D2;\n",
              "      height: 32px;\n",
              "      padding: 0 0 0 0;\n",
              "      width: 32px;\n",
              "    }\n",
              "\n",
              "    .colab-df-convert:hover {\n",
              "      background-color: #E2EBFA;\n",
              "      box-shadow: 0px 1px 2px rgba(60, 64, 67, 0.3), 0px 1px 3px 1px rgba(60, 64, 67, 0.15);\n",
              "      fill: #174EA6;\n",
              "    }\n",
              "\n",
              "    [theme=dark] .colab-df-convert {\n",
              "      background-color: #3B4455;\n",
              "      fill: #D2E3FC;\n",
              "    }\n",
              "\n",
              "    [theme=dark] .colab-df-convert:hover {\n",
              "      background-color: #434B5C;\n",
              "      box-shadow: 0px 1px 3px 1px rgba(0, 0, 0, 0.15);\n",
              "      filter: drop-shadow(0px 1px 2px rgba(0, 0, 0, 0.3));\n",
              "      fill: #FFFFFF;\n",
              "    }\n",
              "  </style>\n",
              "\n",
              "      <script>\n",
              "        const buttonEl =\n",
              "          document.querySelector('#df-faeb2b5b-f22a-4f56-ae48-61534274f3cd button.colab-df-convert');\n",
              "        buttonEl.style.display =\n",
              "          google.colab.kernel.accessAllowed ? 'block' : 'none';\n",
              "\n",
              "        async function convertToInteractive(key) {\n",
              "          const element = document.querySelector('#df-faeb2b5b-f22a-4f56-ae48-61534274f3cd');\n",
              "          const dataTable =\n",
              "            await google.colab.kernel.invokeFunction('convertToInteractive',\n",
              "                                                     [key], {});\n",
              "          if (!dataTable) return;\n",
              "\n",
              "          const docLinkHtml = 'Like what you see? Visit the ' +\n",
              "            '<a target=\"_blank\" href=https://colab.research.google.com/notebooks/data_table.ipynb>data table notebook</a>'\n",
              "            + ' to learn more about interactive tables.';\n",
              "          element.innerHTML = '';\n",
              "          dataTable['output_type'] = 'display_data';\n",
              "          await google.colab.output.renderOutput(dataTable, element);\n",
              "          const docLink = document.createElement('div');\n",
              "          docLink.innerHTML = docLinkHtml;\n",
              "          element.appendChild(docLink);\n",
              "        }\n",
              "      </script>\n",
              "    </div>\n",
              "  </div>\n",
              "  "
            ]
          },
          "metadata": {},
          "execution_count": 8
        }
      ]
    },
    {
      "cell_type": "code",
      "source": [
        "test_data.shape"
      ],
      "metadata": {
        "id": "jdrZ3E21YtSS",
        "colab": {
          "base_uri": "https://localhost:8080/"
        },
        "outputId": "66ba6c9a-867f-49e2-bb91-8f176ecf1bf4"
      },
      "execution_count": 9,
      "outputs": [
        {
          "output_type": "execute_result",
          "data": {
            "text/plain": [
              "(1848, 36)"
            ]
          },
          "metadata": {},
          "execution_count": 9
        }
      ]
    },
    {
      "cell_type": "code",
      "source": [
        "test_data.info()"
      ],
      "metadata": {
        "id": "KNeavz-ZCF5X",
        "colab": {
          "base_uri": "https://localhost:8080/"
        },
        "outputId": "c5a47ef7-98bd-46a0-bd26-99d2e000427a"
      },
      "execution_count": 10,
      "outputs": [
        {
          "output_type": "stream",
          "name": "stdout",
          "text": [
            "<class 'pandas.core.frame.DataFrame'>\n",
            "Int64Index: 1848 entries, 4608 to 7352\n",
            "Data columns (total 36 columns):\n",
            " #   Column                                         Non-Null Count  Dtype  \n",
            "---  ------                                         --------------  -----  \n",
            " 0   Lead Number                                    1848 non-null   int64  \n",
            " 1   Lead Origin                                    1848 non-null   object \n",
            " 2   Lead Source                                    1841 non-null   object \n",
            " 3   Do Not Email                                   1848 non-null   object \n",
            " 4   Do Not Call                                    1848 non-null   object \n",
            " 5   Converted                                      1848 non-null   int64  \n",
            " 6   TotalVisits                                    1813 non-null   float64\n",
            " 7   Total Time Spent on Website                    1848 non-null   int64  \n",
            " 8   Page Views Per Visit                           1813 non-null   float64\n",
            " 9   Last Activity                                  1821 non-null   object \n",
            " 10  Country                                        1848 non-null   object \n",
            " 11  Specialization                                 1848 non-null   object \n",
            " 12  How did you hear about X Education             390 non-null    object \n",
            " 13  What is your current occupation                1848 non-null   object \n",
            " 14  What matters most to you in choosing a course  1320 non-null   object \n",
            " 15  Search                                         1848 non-null   object \n",
            " 16  Magazine                                       1848 non-null   object \n",
            " 17  Newspaper Article                              1848 non-null   object \n",
            " 18  X Education Forums                             1848 non-null   object \n",
            " 19  Newspaper                                      1848 non-null   object \n",
            " 20  Digital Advertisement                          1848 non-null   object \n",
            " 21  Through Recommendations                        1848 non-null   object \n",
            " 22  Receive More Updates About Our Courses         1848 non-null   object \n",
            " 23  Tags                                           1848 non-null   object \n",
            " 24  Lead Quality                                   1848 non-null   object \n",
            " 25  Update me on Supply Chain Content              1848 non-null   object \n",
            " 26  Get updates on DM Content                      1848 non-null   object \n",
            " 27  Lead Profile                                   482 non-null    object \n",
            " 28  City                                           1091 non-null   object \n",
            " 29  Asymmetrique Activity Index                    995 non-null    object \n",
            " 30  Asymmetrique Profile Index                     995 non-null    object \n",
            " 31  Asymmetrique Activity Score                    995 non-null    float64\n",
            " 32  Asymmetrique Profile Score                     995 non-null    float64\n",
            " 33  I agree to pay the amount through cheque       1848 non-null   object \n",
            " 34  A free copy of Mastering The Interview         1848 non-null   object \n",
            " 35  Last Notable Activity                          1848 non-null   object \n",
            "dtypes: float64(4), int64(3), object(29)\n",
            "memory usage: 534.2+ KB\n"
          ]
        }
      ]
    },
    {
      "cell_type": "code",
      "source": [
        "# plot the class values\n",
        "g = sns.countplot(test_data['Converted'])\n",
        "g.set_xticklabels(['No', 'Yes'])\n",
        "plt.title('Class Labels Count - Train Data')\n",
        "plt.show()"
      ],
      "metadata": {
        "colab": {
          "base_uri": "https://localhost:8080/",
          "height": 350
        },
        "id": "pBmKCRcPCLR2",
        "outputId": "26f4c1ba-c0cc-4b72-c1d8-254786dc27a9"
      },
      "execution_count": 11,
      "outputs": [
        {
          "output_type": "stream",
          "name": "stderr",
          "text": [
            "/usr/local/lib/python3.7/dist-packages/seaborn/_decorators.py:43: FutureWarning: Pass the following variable as a keyword arg: x. From version 0.12, the only valid positional argument will be `data`, and passing other arguments without an explicit keyword will result in an error or misinterpretation.\n",
            "  FutureWarning\n"
          ]
        },
        {
          "output_type": "display_data",
          "data": {
            "text/plain": [
              "<Figure size 432x288 with 1 Axes>"
            ],
            "image/png": "[encoded data removed]"
          },
          "metadata": {
            "needs_background": "light"
          }
        }
      ]
    },
    {
      "cell_type": "markdown",
      "source": [
        "As we can see, the values of the class labels are quite balanced. Therefore, we can evaluate it using common metrics for binary classification tasks, for example accuracy. "
      ],
      "metadata": {
        "id": "TgzO88KCCNno"
      }
    },
    {
      "cell_type": "markdown",
      "source": [
        "## Data Preprocessing "
      ],
      "metadata": {
        "id": "n0_-72b4CWUO"
      }
    },
    {
      "cell_type": "code",
      "source": [
        "def num_of_dup_rows(data, data_name):\n",
        "  num_duplicated_rows = data.duplicated().sum()\n",
        "  perc_duplicated_rows = (num_duplicated_rows/len(data))*100\n",
        "  print('Percentage of duplicated rows for', data_name, \"is\", perc_duplicated_rows, '%')"
      ],
      "metadata": {
        "id": "lCdizEQCCXR6"
      },
      "execution_count": 12,
      "outputs": []
    },
    {
      "cell_type": "code",
      "source": [
        "num_of_dup_rows(train_data, 'train data')"
      ],
      "metadata": {
        "colab": {
          "base_uri": "https://localhost:8080/"
        },
        "id": "hWq6DEEkCuLx",
        "outputId": "063e34d2-1b78-413a-e549-55bcc3fa6ba2"
      },
      "execution_count": 13,
      "outputs": [
        {
          "output_type": "stream",
          "name": "stdout",
          "text": [
            "Percentage of duplicated rows for train data is 0.0 %\n"
          ]
        }
      ]
    },
    {
      "cell_type": "code",
      "source": [
        "num_of_dup_rows(test_data, 'test_data')"
      ],
      "metadata": {
        "colab": {
          "base_uri": "https://localhost:8080/"
        },
        "id": "3nRtmTTVC9Wh",
        "outputId": "c18ccee3-5674-4f66-d346-470e3cc9ea95"
      },
      "execution_count": 14,
      "outputs": [
        {
          "output_type": "stream",
          "name": "stdout",
          "text": [
            "Percentage of duplicated rows for test_data is 0.0 %\n"
          ]
        }
      ]
    },
    {
      "cell_type": "markdown",
      "source": [
        "As we can see, there are no duplicate rows in our data.\n",
        "\n",
        "We will remove rows from the training data which their percentage of missing values is higher than 50%:"
      ],
      "metadata": {
        "id": "T_RiAin5IMEd"
      }
    },
    {
      "cell_type": "code",
      "source": [
        "perc = 50.0\n",
        "min_count =  int(((100-perc)/100)*train_data.shape[1] + 1)\n",
        "train_data = train_data.dropna( axis=0, thresh=min_count)\n"
      ],
      "metadata": {
        "id": "1P_N7gtOIWyE"
      },
      "execution_count": 15,
      "outputs": []
    },
    {
      "cell_type": "markdown",
      "source": [
        "Now we will visualize the missing values according to the different features"
      ],
      "metadata": {
        "id": "Tx9URN-4DBWt"
      }
    },
    {
      "cell_type": "code",
      "source": [
        "# Visualize the number of missing values as a bar chart\n",
        "msno.bar(train_data);"
      ],
      "metadata": {
        "colab": {
          "base_uri": "https://localhost:8080/",
          "height": 908
        },
        "id": "YqgOUUtTDNJq",
        "outputId": "558c64d6-0ff0-4294-a4aa-56b12e46d5c1"
      },
      "execution_count": 16,
      "outputs": [
        {
          "output_type": "display_data",
          "data": {
            "text/plain": [
              "<Figure size 1800x720 with 3 Axes>"
            ],
            "image/png": "[encoded data removed]"
          },
          "metadata": {
            "needs_background": "light"
          }
        }
      ]
    },
    {
      "cell_type": "code",
      "source": [
        "#Detect missing values\n",
        "train_data.isna().sum()"
      ],
      "metadata": {
        "colab": {
          "base_uri": "https://localhost:8080/"
        },
        "id": "HVFj5XvUDzQw",
        "outputId": "e7e6fef9-f8e3-4dc9-b0cd-938083b6c5bd"
      },
      "execution_count": 17,
      "outputs": [
        {
          "output_type": "execute_result",
          "data": {
            "text/plain": [
              "Lead Number                                         0\n",
              "Lead Origin                                         0\n",
              "Lead Source                                        29\n",
              "Do Not Email                                        0\n",
              "Do Not Call                                         0\n",
              "Converted                                           0\n",
              "TotalVisits                                       102\n",
              "Total Time Spent on Website                         0\n",
              "Page Views Per Visit                              102\n",
              "Last Activity                                      76\n",
              "Country                                             0\n",
              "Specialization                                      0\n",
              "How did you hear about X Education               5792\n",
              "What is your current occupation                     0\n",
              "What matters most to you in choosing a course    2181\n",
              "Search                                              0\n",
              "Magazine                                            0\n",
              "Newspaper Article                                   0\n",
              "X Education Forums                                  0\n",
              "Newspaper                                           0\n",
              "Digital Advertisement                               0\n",
              "Through Recommendations                             0\n",
              "Receive More Updates About Our Courses              0\n",
              "Tags                                                0\n",
              "Lead Quality                                        0\n",
              "Update me on Supply Chain Content                   0\n",
              "Get updates on DM Content                           0\n",
              "Lead Profile                                     5489\n",
              "City                                             2912\n",
              "Asymmetrique Activity Index                      3365\n",
              "Asymmetrique Profile Index                       3365\n",
              "Asymmetrique Activity Score                      3365\n",
              "Asymmetrique Profile Score                       3365\n",
              "I agree to pay the amount through cheque            0\n",
              "A free copy of Mastering The Interview              0\n",
              "Last Notable Activity                               0\n",
              "dtype: int64"
            ]
          },
          "metadata": {},
          "execution_count": 17
        }
      ]
    },
    {
      "cell_type": "markdown",
      "source": [
        "We will delete columns which have more than 50% missing values, since it is not informative enough. As such, we will drop these features from both the train data and test data"
      ],
      "metadata": {
        "id": "1z8IFO7vJt-3"
      }
    },
    {
      "cell_type": "code",
      "source": [
        "origin_columns = train_data.columns\n",
        "perc = 50.0\n",
        "min_count =  int(((100-perc)/100)*train_data.shape[0] + 1)\n",
        "train_data = train_data.dropna( axis=1, thresh=min_count)\n",
        "deleted_columns = [col for col in origin_columns if col not in train_data.columns]\n",
        "test_data = test_data.drop(columns=deleted_columns)"
      ],
      "metadata": {
        "id": "r--Vc5OMHU8M"
      },
      "execution_count": 18,
      "outputs": []
    },
    {
      "cell_type": "code",
      "source": [
        "deleted_columns"
      ],
      "metadata": {
        "colab": {
          "base_uri": "https://localhost:8080/"
        },
        "id": "UHJ5HfVqKp_9",
        "outputId": "d8feb941-7c0b-4c79-8a05-41df7c60513b"
      },
      "execution_count": 19,
      "outputs": [
        {
          "output_type": "execute_result",
          "data": {
            "text/plain": [
              "['How did you hear about X Education', 'Lead Profile']"
            ]
          },
          "metadata": {},
          "execution_count": 19
        }
      ]
    },
    {
      "cell_type": "markdown",
      "source": [
        "Next, we will fill the NaN values in the following way:\n",
        "\n",
        "\n",
        "*   Numeric columns - NaN values will be replaced with the average value of its corresponding column\n",
        "*   Category columns - NaN values will be replaced with the most frequent value of its corresponding column \n",
        "\n",
        "We will fill the missing values in the test data according to the values identified in the train data, since it is an external dataset which we don't always have access to"
      ],
      "metadata": {
        "id": "kLjbkZIrFz7x"
      }
    },
    {
      "cell_type": "code",
      "source": [
        "# Complete missing values based on the train data \n",
        "def fill_missing_values(data, train_data):\n",
        "  for col in data.columns:\n",
        "    if data[col].dtype == float or data[col].dtype == int: # numeric attributes\n",
        "          data[col].fillna(train_data[col].mean(), inplace=True)\n",
        "    else: ## category attibutes\n",
        "          data[col].fillna(train_data[col].mode()[0], inplace=True)\n",
        "\n",
        "  return data\n",
        "\n",
        "\n",
        "train_data = fill_missing_values(train_data, train_data) \n",
        "train_data"
      ],
      "metadata": {
        "colab": {
          "base_uri": "https://localhost:8080/",
          "height": 711
        },
        "id": "tt4vDGejF4Ie",
        "outputId": "1941a5e4-7c84-4ee5-b5b9-dc5963fd9fea"
      },
      "execution_count": 20,
      "outputs": [
        {
          "output_type": "execute_result",
          "data": {
            "text/plain": [
              "      Lead Number              Lead Origin     Lead Source Do Not Email  \\\n",
              "6487       600123  Landing Page Submission  Organic Search          Yes   \n",
              "4759       614204                      API      Olark Chat           No   \n",
              "4368       617857                      API          Google           No   \n",
              "1467       644758  Landing Page Submission          Google           No   \n",
              "5517       607605  Landing Page Submission  Direct Traffic           No   \n",
              "...           ...                      ...             ...          ...   \n",
              "5734       605829  Landing Page Submission          Google           No   \n",
              "5191       610099                      API      Olark Chat           No   \n",
              "5390       608489            Lead Add Form       Reference           No   \n",
              "860        651374  Landing Page Submission          Google           No   \n",
              "7270       593767                      API          Google           No   \n",
              "\n",
              "     Do Not Call  Converted  TotalVisits  Total Time Spent on Website  \\\n",
              "6487          No          0          2.0                          239   \n",
              "4759          No          0          0.0                            0   \n",
              "4368          No          0          3.0                          396   \n",
              "1467          No          1          4.0                          894   \n",
              "5517          No          0          2.0                          143   \n",
              "...          ...        ...          ...                          ...   \n",
              "5734          No          0          3.0                          130   \n",
              "5191          No          0          0.0                            0   \n",
              "5390          No          1          0.0                            0   \n",
              "860           No          0          3.0                          179   \n",
              "7270          No          1          2.0                         1809   \n",
              "\n",
              "      Page Views Per Visit            Last Activity  ...  \\\n",
              "6487                   2.0                 SMS Sent  ...   \n",
              "4759                   0.0  Olark Chat Conversation  ...   \n",
              "4368                   3.0             Email Opened  ...   \n",
              "1467                   4.0                 SMS Sent  ...   \n",
              "5517                   2.0        Converted to Lead  ...   \n",
              "...                    ...                      ...  ...   \n",
              "5734                   3.0             Email Opened  ...   \n",
              "5191                   0.0  Olark Chat Conversation  ...   \n",
              "5390                   0.0                 SMS Sent  ...   \n",
              "860                    3.0             Email Opened  ...   \n",
              "7270                   1.0             Email Opened  ...   \n",
              "\n",
              "     Update me on Supply Chain Content Get updates on DM Content  \\\n",
              "6487                                No                        No   \n",
              "4759                                No                        No   \n",
              "4368                                No                        No   \n",
              "1467                                No                        No   \n",
              "5517                                No                        No   \n",
              "...                                ...                       ...   \n",
              "5734                                No                        No   \n",
              "5191                                No                        No   \n",
              "5390                                No                        No   \n",
              "860                                 No                        No   \n",
              "7270                                No                        No   \n",
              "\n",
              "                   City Asymmetrique Activity Index  \\\n",
              "6487  Thane & Outskirts                   02.Medium   \n",
              "4759             Mumbai                   02.Medium   \n",
              "4368             Mumbai                   02.Medium   \n",
              "1467  Thane & Outskirts                   02.Medium   \n",
              "5517     Tier II Cities                   02.Medium   \n",
              "...                 ...                         ...   \n",
              "5734             Mumbai                   02.Medium   \n",
              "5191             Mumbai                   02.Medium   \n",
              "5390  Thane & Outskirts                   02.Medium   \n",
              "860        Other Cities                      03.Low   \n",
              "7270             Mumbai                   02.Medium   \n",
              "\n",
              "     Asymmetrique Profile Index Asymmetrique Activity Score  \\\n",
              "6487                  02.Medium                   14.307177   \n",
              "4759                  02.Medium                   14.307177   \n",
              "4368                  02.Medium                   14.307177   \n",
              "1467                  02.Medium                   15.000000   \n",
              "5517                  02.Medium                   14.307177   \n",
              "...                         ...                         ...   \n",
              "5734                  02.Medium                   14.307177   \n",
              "5191                  02.Medium                   14.307177   \n",
              "5390                  02.Medium                   14.307177   \n",
              "860                   02.Medium                   12.000000   \n",
              "7270                  02.Medium                   14.307177   \n",
              "\n",
              "     Asymmetrique Profile Score I agree to pay the amount through cheque  \\\n",
              "6487                   16.35262                                       No   \n",
              "4759                   16.35262                                       No   \n",
              "4368                   16.35262                                       No   \n",
              "1467                   14.00000                                       No   \n",
              "5517                   16.35262                                       No   \n",
              "...                         ...                                      ...   \n",
              "5734                   16.35262                                       No   \n",
              "5191                   16.35262                                       No   \n",
              "5390                   16.35262                                       No   \n",
              "860                    16.00000                                       No   \n",
              "7270                   16.35262                                       No   \n",
              "\n",
              "     A free copy of Mastering The Interview Last Notable Activity  \n",
              "6487                                     No              SMS Sent  \n",
              "4759                                     No              Modified  \n",
              "4368                                     No          Email Opened  \n",
              "1467                                     No              SMS Sent  \n",
              "5517                                    Yes              Modified  \n",
              "...                                     ...                   ...  \n",
              "5734                                     No          Email Opened  \n",
              "5191                                     No              Modified  \n",
              "5390                                     No              SMS Sent  \n",
              "860                                      No          Email Opened  \n",
              "7270                                     No          Email Opened  \n",
              "\n",
              "[7392 rows x 34 columns]"
            ],
            "text/html": [
              "\n",
              "  <div id=\"df-a56381ce-4ee7-4896-9a8d-393773007f28\">\n",
              "    <div class=\"colab-df-container\">\n",
              "      <div>\n",
              "<style scoped>\n",
              "    .dataframe tbody tr th:only-of-type {\n",
              "        vertical-align: middle;\n",
              "    }\n",
              "\n",
              "    .dataframe tbody tr th {\n",
              "        vertical-align: top;\n",
              "    }\n",
              "\n",
              "    .dataframe thead th {\n",
              "        text-align: right;\n",
              "    }\n",
              "</style>\n",
              "<table border=\"1\" class=\"dataframe\">\n",
              "  <thead>\n",
              "    <tr style=\"text-align: right;\">\n",
              "      <th></th>\n",
              "      <th>Lead Number</th>\n",
              "      <th>Lead Origin</th>\n",
              "      <th>Lead Source</th>\n",
              "      <th>Do Not Email</th>\n",
              "      <th>Do Not Call</th>\n",
              "      <th>Converted</th>\n",
              "      <th>TotalVisits</th>\n",
              "      <th>Total Time Spent on Website</th>\n",
              "      <th>Page Views Per Visit</th>\n",
              "      <th>Last Activity</th>\n",
              "      <th>...</th>\n",
              "      <th>Update me on Supply Chain Content</th>\n",
              "      <th>Get updates on DM Content</th>\n",
              "      <th>City</th>\n",
              "      <th>Asymmetrique Activity Index</th>\n",
              "      <th>Asymmetrique Profile Index</th>\n",
              "      <th>Asymmetrique Activity Score</th>\n",
              "      <th>Asymmetrique Profile Score</th>\n",
              "      <th>I agree to pay the amount through cheque</th>\n",
              "      <th>A free copy of Mastering The Interview</th>\n",
              "      <th>Last Notable Activity</th>\n",
              "    </tr>\n",
              "  </thead>\n",
              "  <tbody>\n",
              "    <tr>\n",
              "      <th>6487</th>\n",
              "      <td>600123</td>\n",
              "      <td>Landing Page Submission</td>\n",
              "      <td>Organic Search</td>\n",
              "      <td>Yes</td>\n",
              "      <td>No</td>\n",
              "      <td>0</td>\n",
              "      <td>2.0</td>\n",
              "      <td>239</td>\n",
              "      <td>2.0</td>\n",
              "      <td>SMS Sent</td>\n",
              "      <td>...</td>\n",
              "      <td>No</td>\n",
              "      <td>No</td>\n",
              "      <td>Thane &amp; Outskirts</td>\n",
              "      <td>02.Medium</td>\n",
              "      <td>02.Medium</td>\n",
              "      <td>14.307177</td>\n",
              "      <td>16.35262</td>\n",
              "      <td>No</td>\n",
              "      <td>No</td>\n",
              "      <td>SMS Sent</td>\n",
              "    </tr>\n",
              "    <tr>\n",
              "      <th>4759</th>\n",
              "      <td>614204</td>\n",
              "      <td>API</td>\n",
              "      <td>Olark Chat</td>\n",
              "      <td>No</td>\n",
              "      <td>No</td>\n",
              "      <td>0</td>\n",
              "      <td>0.0</td>\n",
              "      <td>0</td>\n",
              "      <td>0.0</td>\n",
              "      <td>Olark Chat Conversation</td>\n",
              "      <td>...</td>\n",
              "      <td>No</td>\n",
              "      <td>No</td>\n",
              "      <td>Mumbai</td>\n",
              "      <td>02.Medium</td>\n",
              "      <td>02.Medium</td>\n",
              "      <td>14.307177</td>\n",
              "      <td>16.35262</td>\n",
              "      <td>No</td>\n",
              "      <td>No</td>\n",
              "      <td>Modified</td>\n",
              "    </tr>\n",
              "    <tr>\n",
              "      <th>4368</th>\n",
              "      <td>617857</td>\n",
              "      <td>API</td>\n",
              "      <td>Google</td>\n",
              "      <td>No</td>\n",
              "      <td>No</td>\n",
              "      <td>0</td>\n",
              "      <td>3.0</td>\n",
              "      <td>396</td>\n",
              "      <td>3.0</td>\n",
              "      <td>Email Opened</td>\n",
              "      <td>...</td>\n",
              "      <td>No</td>\n",
              "      <td>No</td>\n",
              "      <td>Mumbai</td>\n",
              "      <td>02.Medium</td>\n",
              "      <td>02.Medium</td>\n",
              "      <td>14.307177</td>\n",
              "      <td>16.35262</td>\n",
              "      <td>No</td>\n",
              "      <td>No</td>\n",
              "      <td>Email Opened</td>\n",
              "    </tr>\n",
              "    <tr>\n",
              "      <th>1467</th>\n",
              "      <td>644758</td>\n",
              "      <td>Landing Page Submission</td>\n",
              "      <td>Google</td>\n",
              "      <td>No</td>\n",
              "      <td>No</td>\n",
              "      <td>1</td>\n",
              "      <td>4.0</td>\n",
              "      <td>894</td>\n",
              "      <td>4.0</td>\n",
              "      <td>SMS Sent</td>\n",
              "      <td>...</td>\n",
              "      <td>No</td>\n",
              "      <td>No</td>\n",
              "      <td>Thane &amp; Outskirts</td>\n",
              "      <td>02.Medium</td>\n",
              "      <td>02.Medium</td>\n",
              "      <td>15.000000</td>\n",
              "      <td>14.00000</td>\n",
              "      <td>No</td>\n",
              "      <td>No</td>\n",
              "      <td>SMS Sent</td>\n",
              "    </tr>\n",
              "    <tr>\n",
              "      <th>5517</th>\n",
              "      <td>607605</td>\n",
              "      <td>Landing Page Submission</td>\n",
              "      <td>Direct Traffic</td>\n",
              "      <td>No</td>\n",
              "      <td>No</td>\n",
              "      <td>0</td>\n",
              "      <td>2.0</td>\n",
              "      <td>143</td>\n",
              "      <td>2.0</td>\n",
              "      <td>Converted to Lead</td>\n",
              "      <td>...</td>\n",
              "      <td>No</td>\n",
              "      <td>No</td>\n",
              "      <td>Tier II Cities</td>\n",
              "      <td>02.Medium</td>\n",
              "      <td>02.Medium</td>\n",
              "      <td>14.307177</td>\n",
              "      <td>16.35262</td>\n",
              "      <td>No</td>\n",
              "      <td>Yes</td>\n",
              "      <td>Modified</td>\n",
              "    </tr>\n",
              "    <tr>\n",
              "      <th>...</th>\n",
              "      <td>...</td>\n",
              "      <td>...</td>\n",
              "      <td>...</td>\n",
              "      <td>...</td>\n",
              "      <td>...</td>\n",
              "      <td>...</td>\n",
              "      <td>...</td>\n",
              "      <td>...</td>\n",
              "      <td>...</td>\n",
              "      <td>...</td>\n",
              "      <td>...</td>\n",
              "      <td>...</td>\n",
              "      <td>...</td>\n",
              "      <td>...</td>\n",
              "      <td>...</td>\n",
              "      <td>...</td>\n",
              "      <td>...</td>\n",
              "      <td>...</td>\n",
              "      <td>...</td>\n",
              "      <td>...</td>\n",
              "      <td>...</td>\n",
              "    </tr>\n",
              "    <tr>\n",
              "      <th>5734</th>\n",
              "      <td>605829</td>\n",
              "      <td>Landing Page Submission</td>\n",
              "      <td>Google</td>\n",
              "      <td>No</td>\n",
              "      <td>No</td>\n",
              "      <td>0</td>\n",
              "      <td>3.0</td>\n",
              "      <td>130</td>\n",
              "      <td>3.0</td>\n",
              "      <td>Email Opened</td>\n",
              "      <td>...</td>\n",
              "      <td>No</td>\n",
              "      <td>No</td>\n",
              "      <td>Mumbai</td>\n",
              "      <td>02.Medium</td>\n",
              "      <td>02.Medium</td>\n",
              "      <td>14.307177</td>\n",
              "      <td>16.35262</td>\n",
              "      <td>No</td>\n",
              "      <td>No</td>\n",
              "      <td>Email Opened</td>\n",
              "    </tr>\n",
              "    <tr>\n",
              "      <th>5191</th>\n",
              "      <td>610099</td>\n",
              "      <td>API</td>\n",
              "      <td>Olark Chat</td>\n",
              "      <td>No</td>\n",
              "      <td>No</td>\n",
              "      <td>0</td>\n",
              "      <td>0.0</td>\n",
              "      <td>0</td>\n",
              "      <td>0.0</td>\n",
              "      <td>Olark Chat Conversation</td>\n",
              "      <td>...</td>\n",
              "      <td>No</td>\n",
              "      <td>No</td>\n",
              "      <td>Mumbai</td>\n",
              "      <td>02.Medium</td>\n",
              "      <td>02.Medium</td>\n",
              "      <td>14.307177</td>\n",
              "      <td>16.35262</td>\n",
              "      <td>No</td>\n",
              "      <td>No</td>\n",
              "      <td>Modified</td>\n",
              "    </tr>\n",
              "    <tr>\n",
              "      <th>5390</th>\n",
              "      <td>608489</td>\n",
              "      <td>Lead Add Form</td>\n",
              "      <td>Reference</td>\n",
              "      <td>No</td>\n",
              "      <td>No</td>\n",
              "      <td>1</td>\n",
              "      <td>0.0</td>\n",
              "      <td>0</td>\n",
              "      <td>0.0</td>\n",
              "      <td>SMS Sent</td>\n",
              "      <td>...</td>\n",
              "      <td>No</td>\n",
              "      <td>No</td>\n",
              "      <td>Thane &amp; Outskirts</td>\n",
              "      <td>02.Medium</td>\n",
              "      <td>02.Medium</td>\n",
              "      <td>14.307177</td>\n",
              "      <td>16.35262</td>\n",
              "      <td>No</td>\n",
              "      <td>No</td>\n",
              "      <td>SMS Sent</td>\n",
              "    </tr>\n",
              "    <tr>\n",
              "      <th>860</th>\n",
              "      <td>651374</td>\n",
              "      <td>Landing Page Submission</td>\n",
              "      <td>Google</td>\n",
              "      <td>No</td>\n",
              "      <td>No</td>\n",
              "      <td>0</td>\n",
              "      <td>3.0</td>\n",
              "      <td>179</td>\n",
              "      <td>3.0</td>\n",
              "      <td>Email Opened</td>\n",
              "      <td>...</td>\n",
              "      <td>No</td>\n",
              "      <td>No</td>\n",
              "      <td>Other Cities</td>\n",
              "      <td>03.Low</td>\n",
              "      <td>02.Medium</td>\n",
              "      <td>12.000000</td>\n",
              "      <td>16.00000</td>\n",
              "      <td>No</td>\n",
              "      <td>No</td>\n",
              "      <td>Email Opened</td>\n",
              "    </tr>\n",
              "    <tr>\n",
              "      <th>7270</th>\n",
              "      <td>593767</td>\n",
              "      <td>API</td>\n",
              "      <td>Google</td>\n",
              "      <td>No</td>\n",
              "      <td>No</td>\n",
              "      <td>1</td>\n",
              "      <td>2.0</td>\n",
              "      <td>1809</td>\n",
              "      <td>1.0</td>\n",
              "      <td>Email Opened</td>\n",
              "      <td>...</td>\n",
              "      <td>No</td>\n",
              "      <td>No</td>\n",
              "      <td>Mumbai</td>\n",
              "      <td>02.Medium</td>\n",
              "      <td>02.Medium</td>\n",
              "      <td>14.307177</td>\n",
              "      <td>16.35262</td>\n",
              "      <td>No</td>\n",
              "      <td>No</td>\n",
              "      <td>Email Opened</td>\n",
              "    </tr>\n",
              "  </tbody>\n",
              "</table>\n",
              "<p>7392 rows × 34 columns</p>\n",
              "</div>\n",
              "      <button class=\"colab-df-convert\" onclick=\"convertToInteractive('df-a56381ce-4ee7-4896-9a8d-393773007f28')\"\n",
              "              title=\"Convert this dataframe to an interactive table.\"\n",
              "              style=\"display:none;\">\n",
              "        \n",
              "  <svg xmlns=\"http://www.w3.org/2000/svg\" height=\"24px\"viewBox=\"0 0 24 24\"\n",
              "       width=\"24px\">\n",
              "    <path d=\"M0 0h24v24H0V0z\" fill=\"none\"/>\n",
              "    <path d=\"M18.56 5.44l.94 2.06.94-2.06 2.06-.94-2.06-.94-.94-2.06-.94 2.06-2.06.94zm-11 1L8.5 8.5l.94-2.06 2.06-.94-2.06-.94L8.5 2.5l-.94 2.06-2.06.94zm10 10l.94 2.06.94-2.06 2.06-.94-2.06-.94-.94-2.06-.94 2.06-2.06.94z\"/><path d=\"M17.41 7.96l-1.37-1.37c-.4-.4-.92-.59-1.43-.59-.52 0-1.04.2-1.43.59L10.3 9.45l-7.72 7.72c-.78.78-.78 2.05 0 2.83L4 21.41c.39.39.9.59 1.41.59.51 0 1.02-.2 1.41-.59l7.78-7.78 2.81-2.81c.8-.78.8-2.07 0-2.86zM5.41 20L4 18.59l7.72-7.72 1.47 1.35L5.41 20z\"/>\n",
              "  </svg>\n",
              "      </button>\n",
              "      \n",
              "  <style>\n",
              "    .colab-df-container {\n",
              "      display:flex;\n",
              "      flex-wrap:wrap;\n",
              "      gap: 12px;\n",
              "    }\n",
              "\n",
              "    .colab-df-convert {\n",
              "      background-color: #E8F0FE;\n",
              "      border: none;\n",
              "      border-radius: 50%;\n",
              "      cursor: pointer;\n",
              "      display: none;\n",
              "      fill: #1967D2;\n",
              "      height: 32px;\n",
              "      padding: 0 0 0 0;\n",
              "      width: 32px;\n",
              "    }\n",
              "\n",
              "    .colab-df-convert:hover {\n",
              "      background-color: #E2EBFA;\n",
              "      box-shadow: 0px 1px 2px rgba(60, 64, 67, 0.3), 0px 1px 3px 1px rgba(60, 64, 67, 0.15);\n",
              "      fill: #174EA6;\n",
              "    }\n",
              "\n",
              "    [theme=dark] .colab-df-convert {\n",
              "      background-color: #3B4455;\n",
              "      fill: #D2E3FC;\n",
              "    }\n",
              "\n",
              "    [theme=dark] .colab-df-convert:hover {\n",
              "      background-color: #434B5C;\n",
              "      box-shadow: 0px 1px 3px 1px rgba(0, 0, 0, 0.15);\n",
              "      filter: drop-shadow(0px 1px 2px rgba(0, 0, 0, 0.3));\n",
              "      fill: #FFFFFF;\n",
              "    }\n",
              "  </style>\n",
              "\n",
              "      <script>\n",
              "        const buttonEl =\n",
              "          document.querySelector('#df-a56381ce-4ee7-4896-9a8d-393773007f28 button.colab-df-convert');\n",
              "        buttonEl.style.display =\n",
              "          google.colab.kernel.accessAllowed ? 'block' : 'none';\n",
              "\n",
              "        async function convertToInteractive(key) {\n",
              "          const element = document.querySelector('#df-a56381ce-4ee7-4896-9a8d-393773007f28');\n",
              "          const dataTable =\n",
              "            await google.colab.kernel.invokeFunction('convertToInteractive',\n",
              "                                                     [key], {});\n",
              "          if (!dataTable) return;\n",
              "\n",
              "          const docLinkHtml = 'Like what you see? Visit the ' +\n",
              "            '<a target=\"_blank\" href=https://colab.research.google.com/notebooks/data_table.ipynb>data table notebook</a>'\n",
              "            + ' to learn more about interactive tables.';\n",
              "          element.innerHTML = '';\n",
              "          dataTable['output_type'] = 'display_data';\n",
              "          await google.colab.output.renderOutput(dataTable, element);\n",
              "          const docLink = document.createElement('div');\n",
              "          docLink.innerHTML = docLinkHtml;\n",
              "          element.appendChild(docLink);\n",
              "        }\n",
              "      </script>\n",
              "    </div>\n",
              "  </div>\n",
              "  "
            ]
          },
          "metadata": {},
          "execution_count": 20
        }
      ]
    },
    {
      "cell_type": "code",
      "source": [
        "test_data = fill_missing_values(test_data, train_data) # the second parameter specifies that common/mean values will be determined according to the train set.\n",
        "test_data"
      ],
      "metadata": {
        "colab": {
          "base_uri": "https://localhost:8080/",
          "height": 832
        },
        "id": "6jOE0qaOG2dy",
        "outputId": "cf4e565a-9ea6-48b9-b5df-b403b79d7a91"
      },
      "execution_count": 21,
      "outputs": [
        {
          "output_type": "execute_result",
          "data": {
            "text/plain": [
              "      Lead Number              Lead Origin     Lead Source Do Not Email  \\\n",
              "4608       615582  Landing Page Submission          Google           No   \n",
              "7935       588939  Landing Page Submission  Direct Traffic          Yes   \n",
              "4043       621242  Landing Page Submission  Direct Traffic          Yes   \n",
              "7821       589803  Landing Page Submission  Direct Traffic           No   \n",
              "856        651441  Landing Page Submission          Google           No   \n",
              "...           ...                      ...             ...          ...   \n",
              "7387       592785  Landing Page Submission  Direct Traffic           No   \n",
              "3063       630603                      API          Google           No   \n",
              "603        654192              Lead Import        Facebook           No   \n",
              "4210       619497  Landing Page Submission          Google           No   \n",
              "7352       593049                      API  Organic Search           No   \n",
              "\n",
              "     Do Not Call  Converted  TotalVisits  Total Time Spent on Website  \\\n",
              "4608          No          1     8.000000                          252   \n",
              "7935          No          0     2.000000                          929   \n",
              "4043          No          0     1.000000                            2   \n",
              "7821          No          0     2.000000                          323   \n",
              "856           No          0     3.000000                          201   \n",
              "...          ...        ...          ...                          ...   \n",
              "7387          No          1     3.000000                         1486   \n",
              "3063          No          1     8.000000                         1054   \n",
              "603           No          0     3.481893                           97   \n",
              "4210          No          1     4.000000                          409   \n",
              "7352          No          0     3.000000                          452   \n",
              "\n",
              "      Page Views Per Visit  Last Activity  ...  \\\n",
              "4608              2.670000   Email Opened  ...   \n",
              "7935              2.000000  Email Bounced  ...   \n",
              "4043              1.000000  Email Bounced  ...   \n",
              "7821              2.000000   Email Opened  ...   \n",
              "856               3.000000   Email Opened  ...   \n",
              "...                    ...            ...  ...   \n",
              "7387              3.000000   Email Opened  ...   \n",
              "3063              2.670000   Email Opened  ...   \n",
              "603               2.377359   Email Opened  ...   \n",
              "4210              4.000000   Email Opened  ...   \n",
              "7352              3.000000   Email Opened  ...   \n",
              "\n",
              "     Update me on Supply Chain Content Get updates on DM Content  \\\n",
              "4608                                No                        No   \n",
              "7935                                No                        No   \n",
              "4043                                No                        No   \n",
              "7821                                No                        No   \n",
              "856                                 No                        No   \n",
              "...                                ...                       ...   \n",
              "7387                                No                        No   \n",
              "3063                                No                        No   \n",
              "603                                 No                        No   \n",
              "4210                                No                        No   \n",
              "7352                                No                        No   \n",
              "\n",
              "                             City Asymmetrique Activity Index  \\\n",
              "4608                       Mumbai                   02.Medium   \n",
              "7935                 Other Cities                   02.Medium   \n",
              "4043                 Other Cities                   02.Medium   \n",
              "7821                       Mumbai                   02.Medium   \n",
              "856                        Mumbai                   02.Medium   \n",
              "...                           ...                         ...   \n",
              "7387            Thane & Outskirts                   02.Medium   \n",
              "3063  Other Cities of Maharashtra                   02.Medium   \n",
              "603                        Mumbai                   02.Medium   \n",
              "4210                       Mumbai                   02.Medium   \n",
              "7352                       Mumbai                   02.Medium   \n",
              "\n",
              "     Asymmetrique Profile Index Asymmetrique Activity Score  \\\n",
              "4608                  02.Medium                   14.307177   \n",
              "7935                  02.Medium                   14.000000   \n",
              "4043                  02.Medium                   14.307177   \n",
              "7821                    01.High                   14.000000   \n",
              "856                     01.High                   13.000000   \n",
              "...                         ...                         ...   \n",
              "7387                    01.High                   14.000000   \n",
              "3063                  02.Medium                   14.307177   \n",
              "603                   02.Medium                   13.000000   \n",
              "4210                  02.Medium                   14.307177   \n",
              "7352                  02.Medium                   15.000000   \n",
              "\n",
              "     Asymmetrique Profile Score I agree to pay the amount through cheque  \\\n",
              "4608                   16.35262                                       No   \n",
              "7935                   16.00000                                       No   \n",
              "4043                   16.35262                                       No   \n",
              "7821                   18.00000                                       No   \n",
              "856                    18.00000                                       No   \n",
              "...                         ...                                      ...   \n",
              "7387                   17.00000                                       No   \n",
              "3063                   16.35262                                       No   \n",
              "603                    15.00000                                       No   \n",
              "4210                   16.35262                                       No   \n",
              "7352                   15.00000                                       No   \n",
              "\n",
              "     A free copy of Mastering The Interview Last Notable Activity  \n",
              "4608                                    Yes          Email Opened  \n",
              "7935                                    Yes              Modified  \n",
              "4043                                     No              Modified  \n",
              "7821                                     No          Email Opened  \n",
              "856                                      No          Email Opened  \n",
              "...                                     ...                   ...  \n",
              "7387                                    Yes          Email Opened  \n",
              "3063                                     No              Modified  \n",
              "603                                      No              Modified  \n",
              "4210                                     No          Email Opened  \n",
              "7352                                     No          Email Opened  \n",
              "\n",
              "[1848 rows x 34 columns]"
            ],
            "text/html": [
              "\n",
              "  <div id=\"df-d5025dc2-5fe5-4e53-bb64-cc4d5b3662fe\">\n",
              "    <div class=\"colab-df-container\">\n",
              "      <div>\n",
              "<style scoped>\n",
              "    .dataframe tbody tr th:only-of-type {\n",
              "        vertical-align: middle;\n",
              "    }\n",
              "\n",
              "    .dataframe tbody tr th {\n",
              "        vertical-align: top;\n",
              "    }\n",
              "\n",
              "    .dataframe thead th {\n",
              "        text-align: right;\n",
              "    }\n",
              "</style>\n",
              "<table border=\"1\" class=\"dataframe\">\n",
              "  <thead>\n",
              "    <tr style=\"text-align: right;\">\n",
              "      <th></th>\n",
              "      <th>Lead Number</th>\n",
              "      <th>Lead Origin</th>\n",
              "      <th>Lead Source</th>\n",
              "      <th>Do Not Email</th>\n",
              "      <th>Do Not Call</th>\n",
              "      <th>Converted</th>\n",
              "      <th>TotalVisits</th>\n",
              "      <th>Total Time Spent on Website</th>\n",
              "      <th>Page Views Per Visit</th>\n",
              "      <th>Last Activity</th>\n",
              "      <th>...</th>\n",
              "      <th>Update me on Supply Chain Content</th>\n",
              "      <th>Get updates on DM Content</th>\n",
              "      <th>City</th>\n",
              "      <th>Asymmetrique Activity Index</th>\n",
              "      <th>Asymmetrique Profile Index</th>\n",
              "      <th>Asymmetrique Activity Score</th>\n",
              "      <th>Asymmetrique Profile Score</th>\n",
              "      <th>I agree to pay the amount through cheque</th>\n",
              "      <th>A free copy of Mastering The Interview</th>\n",
              "      <th>Last Notable Activity</th>\n",
              "    </tr>\n",
              "  </thead>\n",
              "  <tbody>\n",
              "    <tr>\n",
              "      <th>4608</th>\n",
              "      <td>615582</td>\n",
              "      <td>Landing Page Submission</td>\n",
              "      <td>Google</td>\n",
              "      <td>No</td>\n",
              "      <td>No</td>\n",
              "      <td>1</td>\n",
              "      <td>8.000000</td>\n",
              "      <td>252</td>\n",
              "      <td>2.670000</td>\n",
              "      <td>Email Opened</td>\n",
              "      <td>...</td>\n",
              "      <td>No</td>\n",
              "      <td>No</td>\n",
              "      <td>Mumbai</td>\n",
              "      <td>02.Medium</td>\n",
              "      <td>02.Medium</td>\n",
              "      <td>14.307177</td>\n",
              "      <td>16.35262</td>\n",
              "      <td>No</td>\n",
              "      <td>Yes</td>\n",
              "      <td>Email Opened</td>\n",
              "    </tr>\n",
              "    <tr>\n",
              "      <th>7935</th>\n",
              "      <td>588939</td>\n",
              "      <td>Landing Page Submission</td>\n",
              "      <td>Direct Traffic</td>\n",
              "      <td>Yes</td>\n",
              "      <td>No</td>\n",
              "      <td>0</td>\n",
              "      <td>2.000000</td>\n",
              "      <td>929</td>\n",
              "      <td>2.000000</td>\n",
              "      <td>Email Bounced</td>\n",
              "      <td>...</td>\n",
              "      <td>No</td>\n",
              "      <td>No</td>\n",
              "      <td>Other Cities</td>\n",
              "      <td>02.Medium</td>\n",
              "      <td>02.Medium</td>\n",
              "      <td>14.000000</td>\n",
              "      <td>16.00000</td>\n",
              "      <td>No</td>\n",
              "      <td>Yes</td>\n",
              "      <td>Modified</td>\n",
              "    </tr>\n",
              "    <tr>\n",
              "      <th>4043</th>\n",
              "      <td>621242</td>\n",
              "      <td>Landing Page Submission</td>\n",
              "      <td>Direct Traffic</td>\n",
              "      <td>Yes</td>\n",
              "      <td>No</td>\n",
              "      <td>0</td>\n",
              "      <td>1.000000</td>\n",
              "      <td>2</td>\n",
              "      <td>1.000000</td>\n",
              "      <td>Email Bounced</td>\n",
              "      <td>...</td>\n",
              "      <td>No</td>\n",
              "      <td>No</td>\n",
              "      <td>Other Cities</td>\n",
              "      <td>02.Medium</td>\n",
              "      <td>02.Medium</td>\n",
              "      <td>14.307177</td>\n",
              "      <td>16.35262</td>\n",
              "      <td>No</td>\n",
              "      <td>No</td>\n",
              "      <td>Modified</td>\n",
              "    </tr>\n",
              "    <tr>\n",
              "      <th>7821</th>\n",
              "      <td>589803</td>\n",
              "      <td>Landing Page Submission</td>\n",
              "      <td>Direct Traffic</td>\n",
              "      <td>No</td>\n",
              "      <td>No</td>\n",
              "      <td>0</td>\n",
              "      <td>2.000000</td>\n",
              "      <td>323</td>\n",
              "      <td>2.000000</td>\n",
              "      <td>Email Opened</td>\n",
              "      <td>...</td>\n",
              "      <td>No</td>\n",
              "      <td>No</td>\n",
              "      <td>Mumbai</td>\n",
              "      <td>02.Medium</td>\n",
              "      <td>01.High</td>\n",
              "      <td>14.000000</td>\n",
              "      <td>18.00000</td>\n",
              "      <td>No</td>\n",
              "      <td>No</td>\n",
              "      <td>Email Opened</td>\n",
              "    </tr>\n",
              "    <tr>\n",
              "      <th>856</th>\n",
              "      <td>651441</td>\n",
              "      <td>Landing Page Submission</td>\n",
              "      <td>Google</td>\n",
              "      <td>No</td>\n",
              "      <td>No</td>\n",
              "      <td>0</td>\n",
              "      <td>3.000000</td>\n",
              "      <td>201</td>\n",
              "      <td>3.000000</td>\n",
              "      <td>Email Opened</td>\n",
              "      <td>...</td>\n",
              "      <td>No</td>\n",
              "      <td>No</td>\n",
              "      <td>Mumbai</td>\n",
              "      <td>02.Medium</td>\n",
              "      <td>01.High</td>\n",
              "      <td>13.000000</td>\n",
              "      <td>18.00000</td>\n",
              "      <td>No</td>\n",
              "      <td>No</td>\n",
              "      <td>Email Opened</td>\n",
              "    </tr>\n",
              "    <tr>\n",
              "      <th>...</th>\n",
              "      <td>...</td>\n",
              "      <td>...</td>\n",
              "      <td>...</td>\n",
              "      <td>...</td>\n",
              "      <td>...</td>\n",
              "      <td>...</td>\n",
              "      <td>...</td>\n",
              "      <td>...</td>\n",
              "      <td>...</td>\n",
              "      <td>...</td>\n",
              "      <td>...</td>\n",
              "      <td>...</td>\n",
              "      <td>...</td>\n",
              "      <td>...</td>\n",
              "      <td>...</td>\n",
              "      <td>...</td>\n",
              "      <td>...</td>\n",
              "      <td>...</td>\n",
              "      <td>...</td>\n",
              "      <td>...</td>\n",
              "      <td>...</td>\n",
              "    </tr>\n",
              "    <tr>\n",
              "      <th>7387</th>\n",
              "      <td>592785</td>\n",
              "      <td>Landing Page Submission</td>\n",
              "      <td>Direct Traffic</td>\n",
              "      <td>No</td>\n",
              "      <td>No</td>\n",
              "      <td>1</td>\n",
              "      <td>3.000000</td>\n",
              "      <td>1486</td>\n",
              "      <td>3.000000</td>\n",
              "      <td>Email Opened</td>\n",
              "      <td>...</td>\n",
              "      <td>No</td>\n",
              "      <td>No</td>\n",
              "      <td>Thane &amp; Outskirts</td>\n",
              "      <td>02.Medium</td>\n",
              "      <td>01.High</td>\n",
              "      <td>14.000000</td>\n",
              "      <td>17.00000</td>\n",
              "      <td>No</td>\n",
              "      <td>Yes</td>\n",
              "      <td>Email Opened</td>\n",
              "    </tr>\n",
              "    <tr>\n",
              "      <th>3063</th>\n",
              "      <td>630603</td>\n",
              "      <td>API</td>\n",
              "      <td>Google</td>\n",
              "      <td>No</td>\n",
              "      <td>No</td>\n",
              "      <td>1</td>\n",
              "      <td>8.000000</td>\n",
              "      <td>1054</td>\n",
              "      <td>2.670000</td>\n",
              "      <td>Email Opened</td>\n",
              "      <td>...</td>\n",
              "      <td>No</td>\n",
              "      <td>No</td>\n",
              "      <td>Other Cities of Maharashtra</td>\n",
              "      <td>02.Medium</td>\n",
              "      <td>02.Medium</td>\n",
              "      <td>14.307177</td>\n",
              "      <td>16.35262</td>\n",
              "      <td>No</td>\n",
              "      <td>No</td>\n",
              "      <td>Modified</td>\n",
              "    </tr>\n",
              "    <tr>\n",
              "      <th>603</th>\n",
              "      <td>654192</td>\n",
              "      <td>Lead Import</td>\n",
              "      <td>Facebook</td>\n",
              "      <td>No</td>\n",
              "      <td>No</td>\n",
              "      <td>0</td>\n",
              "      <td>3.481893</td>\n",
              "      <td>97</td>\n",
              "      <td>2.377359</td>\n",
              "      <td>Email Opened</td>\n",
              "      <td>...</td>\n",
              "      <td>No</td>\n",
              "      <td>No</td>\n",
              "      <td>Mumbai</td>\n",
              "      <td>02.Medium</td>\n",
              "      <td>02.Medium</td>\n",
              "      <td>13.000000</td>\n",
              "      <td>15.00000</td>\n",
              "      <td>No</td>\n",
              "      <td>No</td>\n",
              "      <td>Modified</td>\n",
              "    </tr>\n",
              "    <tr>\n",
              "      <th>4210</th>\n",
              "      <td>619497</td>\n",
              "      <td>Landing Page Submission</td>\n",
              "      <td>Google</td>\n",
              "      <td>No</td>\n",
              "      <td>No</td>\n",
              "      <td>1</td>\n",
              "      <td>4.000000</td>\n",
              "      <td>409</td>\n",
              "      <td>4.000000</td>\n",
              "      <td>Email Opened</td>\n",
              "      <td>...</td>\n",
              "      <td>No</td>\n",
              "      <td>No</td>\n",
              "      <td>Mumbai</td>\n",
              "      <td>02.Medium</td>\n",
              "      <td>02.Medium</td>\n",
              "      <td>14.307177</td>\n",
              "      <td>16.35262</td>\n",
              "      <td>No</td>\n",
              "      <td>No</td>\n",
              "      <td>Email Opened</td>\n",
              "    </tr>\n",
              "    <tr>\n",
              "      <th>7352</th>\n",
              "      <td>593049</td>\n",
              "      <td>API</td>\n",
              "      <td>Organic Search</td>\n",
              "      <td>No</td>\n",
              "      <td>No</td>\n",
              "      <td>0</td>\n",
              "      <td>3.000000</td>\n",
              "      <td>452</td>\n",
              "      <td>3.000000</td>\n",
              "      <td>Email Opened</td>\n",
              "      <td>...</td>\n",
              "      <td>No</td>\n",
              "      <td>No</td>\n",
              "      <td>Mumbai</td>\n",
              "      <td>02.Medium</td>\n",
              "      <td>02.Medium</td>\n",
              "      <td>15.000000</td>\n",
              "      <td>15.00000</td>\n",
              "      <td>No</td>\n",
              "      <td>No</td>\n",
              "      <td>Email Opened</td>\n",
              "    </tr>\n",
              "  </tbody>\n",
              "</table>\n",
              "<p>1848 rows × 34 columns</p>\n",
              "</div>\n",
              "      <button class=\"colab-df-convert\" onclick=\"convertToInteractive('df-d5025dc2-5fe5-4e53-bb64-cc4d5b3662fe')\"\n",
              "              title=\"Convert this dataframe to an interactive table.\"\n",
              "              style=\"display:none;\">\n",
              "        \n",
              "  <svg xmlns=\"http://www.w3.org/2000/svg\" height=\"24px\"viewBox=\"0 0 24 24\"\n",
              "       width=\"24px\">\n",
              "    <path d=\"M0 0h24v24H0V0z\" fill=\"none\"/>\n",
              "    <path d=\"M18.56 5.44l.94 2.06.94-2.06 2.06-.94-2.06-.94-.94-2.06-.94 2.06-2.06.94zm-11 1L8.5 8.5l.94-2.06 2.06-.94-2.06-.94L8.5 2.5l-.94 2.06-2.06.94zm10 10l.94 2.06.94-2.06 2.06-.94-2.06-.94-.94-2.06-.94 2.06-2.06.94z\"/><path d=\"M17.41 7.96l-1.37-1.37c-.4-.4-.92-.59-1.43-.59-.52 0-1.04.2-1.43.59L10.3 9.45l-7.72 7.72c-.78.78-.78 2.05 0 2.83L4 21.41c.39.39.9.59 1.41.59.51 0 1.02-.2 1.41-.59l7.78-7.78 2.81-2.81c.8-.78.8-2.07 0-2.86zM5.41 20L4 18.59l7.72-7.72 1.47 1.35L5.41 20z\"/>\n",
              "  </svg>\n",
              "      </button>\n",
              "      \n",
              "  <style>\n",
              "    .colab-df-container {\n",
              "      display:flex;\n",
              "      flex-wrap:wrap;\n",
              "      gap: 12px;\n",
              "    }\n",
              "\n",
              "    .colab-df-convert {\n",
              "      background-color: #E8F0FE;\n",
              "      border: none;\n",
              "      border-radius: 50%;\n",
              "      cursor: pointer;\n",
              "      display: none;\n",
              "      fill: #1967D2;\n",
              "      height: 32px;\n",
              "      padding: 0 0 0 0;\n",
              "      width: 32px;\n",
              "    }\n",
              "\n",
              "    .colab-df-convert:hover {\n",
              "      background-color: #E2EBFA;\n",
              "      box-shadow: 0px 1px 2px rgba(60, 64, 67, 0.3), 0px 1px 3px 1px rgba(60, 64, 67, 0.15);\n",
              "      fill: #174EA6;\n",
              "    }\n",
              "\n",
              "    [theme=dark] .colab-df-convert {\n",
              "      background-color: #3B4455;\n",
              "      fill: #D2E3FC;\n",
              "    }\n",
              "\n",
              "    [theme=dark] .colab-df-convert:hover {\n",
              "      background-color: #434B5C;\n",
              "      box-shadow: 0px 1px 3px 1px rgba(0, 0, 0, 0.15);\n",
              "      filter: drop-shadow(0px 1px 2px rgba(0, 0, 0, 0.3));\n",
              "      fill: #FFFFFF;\n",
              "    }\n",
              "  </style>\n",
              "\n",
              "      <script>\n",
              "        const buttonEl =\n",
              "          document.querySelector('#df-d5025dc2-5fe5-4e53-bb64-cc4d5b3662fe button.colab-df-convert');\n",
              "        buttonEl.style.display =\n",
              "          google.colab.kernel.accessAllowed ? 'block' : 'none';\n",
              "\n",
              "        async function convertToInteractive(key) {\n",
              "          const element = document.querySelector('#df-d5025dc2-5fe5-4e53-bb64-cc4d5b3662fe');\n",
              "          const dataTable =\n",
              "            await google.colab.kernel.invokeFunction('convertToInteractive',\n",
              "                                                     [key], {});\n",
              "          if (!dataTable) return;\n",
              "\n",
              "          const docLinkHtml = 'Like what you see? Visit the ' +\n",
              "            '<a target=\"_blank\" href=https://colab.research.google.com/notebooks/data_table.ipynb>data table notebook</a>'\n",
              "            + ' to learn more about interactive tables.';\n",
              "          element.innerHTML = '';\n",
              "          dataTable['output_type'] = 'display_data';\n",
              "          await google.colab.output.renderOutput(dataTable, element);\n",
              "          const docLink = document.createElement('div');\n",
              "          docLink.innerHTML = docLinkHtml;\n",
              "          element.appendChild(docLink);\n",
              "        }\n",
              "      </script>\n",
              "    </div>\n",
              "  </div>\n",
              "  "
            ]
          },
          "metadata": {},
          "execution_count": 21
        }
      ]
    },
    {
      "cell_type": "markdown",
      "source": [
        "### Transformation"
      ],
      "metadata": {
        "id": "m3-XAVopHPo-"
      }
    },
    {
      "cell_type": "markdown",
      "source": [
        "First, we will transform and normalize the values of numeric features, to minimize redundancy  and  avoid  unnecessary  anomalies  properties.\n",
        "\n",
        "We will use sklearn's StandardScaler, which implements an incremental algorithm for computing mean and standard deviation (see https://scikit-learn.org/stable/modules/generated/sklearn.preprocessing.StandardScaler.html).\n",
        "\n",
        "The data calculated for the normalization is done based on the train set. The same scaler will be used to normalize the test set afterwards. \n",
        "\n",
        "For the training phase, each fold will have its own std and mean calculated and applied.\n"
      ],
      "metadata": {
        "id": "rgFG68m_HQAq"
      }
    },
    {
      "cell_type": "code",
      "source": [
        "test_lead_number = test_data['Lead Number']"
      ],
      "metadata": {
        "id": "8LS4NyJ3p_rS"
      },
      "execution_count": 22,
      "outputs": []
    },
    {
      "cell_type": "markdown",
      "source": [
        "We will drop 'Lead Number' column since it has no additional contribution to the model "
      ],
      "metadata": {
        "id": "KzpkpHmPc6On"
      }
    },
    {
      "cell_type": "code",
      "source": [
        "train_data = train_data.drop(['Lead Number'], axis = 1)\n",
        "test_data = test_data.drop(['Lead Number'], axis = 1)"
      ],
      "metadata": {
        "id": "N15Oc8JkjEEP"
      },
      "execution_count": 23,
      "outputs": []
    },
    {
      "cell_type": "code",
      "source": [
        "numeric_cols = [col for col in train_data.columns if train_data[col].dtype == float or train_data[col].dtype== int]\n",
        "cat_cols = [col for col in train_data.columns if col not in numeric_cols]\n",
        "numeric_cols.remove('Converted')\n"
      ],
      "metadata": {
        "id": "gxijG__uG9Mc"
      },
      "execution_count": 24,
      "outputs": []
    },
    {
      "cell_type": "code",
      "source": [
        "# only numeric features\n",
        "def normalize_features(data, scaler, cols):\n",
        "    # normalize\n",
        "    data[cols] = scaler.transform(data[cols])  \n",
        "    return data"
      ],
      "metadata": {
        "id": "yLcTlsrlMn_f"
      },
      "execution_count": 25,
      "outputs": []
    },
    {
      "cell_type": "code",
      "source": [
        "# save the mean and std of the whole train, to normalize test set afterwards\n",
        "train_std_scale = StandardScaler()\n",
        "train_std_scale.fit(train_data[numeric_cols])"
      ],
      "metadata": {
        "colab": {
          "base_uri": "https://localhost:8080/"
        },
        "id": "gfcZMOwkNZbn",
        "outputId": "d288c996-ec56-4b61-ea5e-4f953e82713e"
      },
      "execution_count": 26,
      "outputs": [
        {
          "output_type": "execute_result",
          "data": {
            "text/plain": [
              "StandardScaler()"
            ]
          },
          "metadata": {},
          "execution_count": 26
        }
      ]
    },
    {
      "cell_type": "code",
      "source": [
        "# normalize the test and train data, based on the std and mean of the train data\n",
        "test_data = normalize_features(test_data, train_std_scale, numeric_cols)\n",
        "train_data = normalize_features(train_data, train_std_scale, numeric_cols)\n"
      ],
      "metadata": {
        "id": "s1rpwA94PBg5"
      },
      "execution_count": 27,
      "outputs": []
    },
    {
      "cell_type": "markdown",
      "source": [
        "Next, we will encode any category feature, since the selected ML models work on numeric features. We will treat nominal and ordinal differently, as described:\n",
        "1. For nominal variables: we will use OneHotEncoder - In this technique, first of all, for each distinct value of the feature, new columns are created. Then in these new columns, the absence of that value in the row is denoted by 1, and absence is denoted by 0.\n",
        "\n",
        "2. For ordinal variables: we will use LabelEncoder -In label encoding, each distinct value of the feature is assigned numeric values starting from 0 to N-1 where N is the total number of distinct values. \n"
      ],
      "metadata": {
        "id": "Tp9fF3RMPSch"
      }
    },
    {
      "cell_type": "code",
      "source": [
        "ordinal_cat = ['Lead Quality', 'Asymmetrique Activity Index', 'Asymmetrique Profile Index']\n",
        "nominal_cat = [cat for cat in cat_cols if cat not in ordinal_cat]"
      ],
      "metadata": {
        "id": "uywSmw4CPXWH"
      },
      "execution_count": 28,
      "outputs": []
    },
    {
      "cell_type": "code",
      "source": [
        "# For ordinal features\n",
        "le = preprocessing.LabelEncoder()\n",
        "train_data[ordinal_cat] = train_data[ordinal_cat].apply(le.fit_transform)\n",
        "test_data[ordinal_cat] = test_data[ordinal_cat].apply(le.fit_transform)\n",
        "\n",
        "\n"
      ],
      "metadata": {
        "id": "p0YHVFK_CSR4"
      },
      "execution_count": 29,
      "outputs": []
    },
    {
      "cell_type": "code",
      "source": [
        "# For nominal features - train data\n",
        "encoder = OneHotEncoder(handle_unknown='ignore')\n",
        "fitted_encoder = encoder.fit(train_data[nominal_cat])\n",
        "encodertrain_df = pd.DataFrame(fitted_encoder.transform(train_data[nominal_cat]).toarray())\n",
        "encodertrain_df.columns = encoder.get_feature_names(nominal_cat)\n",
        "train_data = train_data.join(encodertrain_df)\n",
        "train_data = train_data.drop(nominal_cat, axis = 1)\n",
        "\n"
      ],
      "metadata": {
        "id": "M4Di4dXVCz-M",
        "colab": {
          "base_uri": "https://localhost:8080/"
        },
        "outputId": "02d46f61-4be9-40ac-b2d1-0db93e062fad"
      },
      "execution_count": 30,
      "outputs": [
        {
          "output_type": "stream",
          "name": "stderr",
          "text": [
            "/usr/local/lib/python3.7/dist-packages/sklearn/utils/deprecation.py:87: FutureWarning: Function get_feature_names is deprecated; get_feature_names is deprecated in 1.0 and will be removed in 1.2. Please use get_feature_names_out instead.\n",
            "  warnings.warn(msg, category=FutureWarning)\n"
          ]
        }
      ]
    },
    {
      "cell_type": "markdown",
      "source": [
        "We will use the encoder of the train data for the test data, in order to receive the same amount of columns.  "
      ],
      "metadata": {
        "id": "3xkV4mvceheg"
      }
    },
    {
      "cell_type": "code",
      "source": [
        "# For nominal features - test data\n",
        "\n",
        "encodertest_df = pd.DataFrame(fitted_encoder.transform(test_data[nominal_cat]).toarray())\n",
        "encodertest_df.columns = encoder.get_feature_names_out(nominal_cat)\n",
        "test_data = test_data.join(encodertest_df)\n",
        "test_data = test_data.drop(nominal_cat, axis = 1)\n",
        "\n"
      ],
      "metadata": {
        "id": "5Mln_o3eD8Av"
      },
      "execution_count": 31,
      "outputs": []
    },
    {
      "cell_type": "code",
      "source": [
        "test_data = test_data.fillna(0)\n",
        "train_data = train_data.fillna(0)"
      ],
      "metadata": {
        "id": "wUBEQxjsG5RH"
      },
      "execution_count": 32,
      "outputs": []
    },
    {
      "cell_type": "markdown",
      "source": [
        "### Feature Selections"
      ],
      "metadata": {
        "id": "UbtFk0LwI0Oo"
      }
    },
    {
      "cell_type": "markdown",
      "source": [
        "We will  examine the correlations between the initial numeric features:\n"
      ],
      "metadata": {
        "id": "p1_3WC8Iew-2"
      }
    },
    {
      "cell_type": "code",
      "source": [
        "plt.figure(figsize=(13, 7))\n",
        "\n",
        "numeric_features = train_data[train_data.columns & numeric_cols]\n",
        "heatmap = sns.heatmap(numeric_features.corr(), vmin=-1, vmax=1, annot=True)\n",
        "\n",
        "heatmap.set_title('Features Correlation Heatmap', fontdict={'fontsize':5}, pad=12);"
      ],
      "metadata": {
        "colab": {
          "base_uri": "https://localhost:8080/",
          "height": 614
        },
        "id": "aCPosIZAIT4x",
        "outputId": "7dcdc403-31f2-4bed-a8f1-865cc21de188"
      },
      "execution_count": 33,
      "outputs": [
        {
          "output_type": "stream",
          "name": "stderr",
          "text": [
            "/usr/local/lib/python3.7/dist-packages/ipykernel_launcher.py:3: FutureWarning: Index.__and__ operating as a set operation is deprecated, in the future this will be a logical operation matching Series.__and__.  Use index.intersection(other) instead\n",
            "  This is separate from the ipykernel package so we can avoid doing imports until\n"
          ]
        },
        {
          "output_type": "display_data",
          "data": {
            "text/plain": [
              "<Figure size 936x504 with 2 Axes>"
            ],
            "image/png": "[encoded data removed]"
          },
          "metadata": {
            "needs_background": "light"
          }
        }
      ]
    },
    {
      "cell_type": "code",
      "source": [
        "train_data[train_data.columns & numeric_cols].corr()"
      ],
      "metadata": {
        "colab": {
          "base_uri": "https://localhost:8080/",
          "height": 241
        },
        "id": "tottFhteXdT_",
        "outputId": "aa9f767b-dd18-4e75-8054-1bfe0fe67d3e"
      },
      "execution_count": 34,
      "outputs": [
        {
          "output_type": "stream",
          "name": "stderr",
          "text": [
            "/usr/local/lib/python3.7/dist-packages/ipykernel_launcher.py:1: FutureWarning: Index.__and__ operating as a set operation is deprecated, in the future this will be a logical operation matching Series.__and__.  Use index.intersection(other) instead\n",
            "  \"\"\"Entry point for launching an IPython kernel.\n"
          ]
        },
        {
          "output_type": "execute_result",
          "data": {
            "text/plain": [
              "                             TotalVisits  Total Time Spent on Website  \\\n",
              "TotalVisits                     1.000000                     0.213276   \n",
              "Total Time Spent on Website     0.213276                     1.000000   \n",
              "Page Views Per Visit            0.500863                     0.308859   \n",
              "Asymmetrique Activity Score    -0.041259                    -0.046450   \n",
              "Asymmetrique Profile Score      0.079921                     0.123238   \n",
              "\n",
              "                             Page Views Per Visit  \\\n",
              "TotalVisits                              0.500863   \n",
              "Total Time Spent on Website              0.308859   \n",
              "Page Views Per Visit                     1.000000   \n",
              "Asymmetrique Activity Score             -0.126385   \n",
              "Asymmetrique Profile Score               0.117530   \n",
              "\n",
              "                             Asymmetrique Activity Score  \\\n",
              "TotalVisits                                    -0.041259   \n",
              "Total Time Spent on Website                    -0.046450   \n",
              "Page Views Per Visit                           -0.126385   \n",
              "Asymmetrique Activity Score                     1.000000   \n",
              "Asymmetrique Profile Score                     -0.130093   \n",
              "\n",
              "                             Asymmetrique Profile Score  \n",
              "TotalVisits                                    0.079921  \n",
              "Total Time Spent on Website                    0.123238  \n",
              "Page Views Per Visit                           0.117530  \n",
              "Asymmetrique Activity Score                   -0.130093  \n",
              "Asymmetrique Profile Score                     1.000000  "
            ],
            "text/html": [
              "\n",
              "  <div id=\"df-815b837c-2dd6-436a-bac5-111443665ab0\">\n",
              "    <div class=\"colab-df-container\">\n",
              "      <div>\n",
              "<style scoped>\n",
              "    .dataframe tbody tr th:only-of-type {\n",
              "        vertical-align: middle;\n",
              "    }\n",
              "\n",
              "    .dataframe tbody tr th {\n",
              "        vertical-align: top;\n",
              "    }\n",
              "\n",
              "    .dataframe thead th {\n",
              "        text-align: right;\n",
              "    }\n",
              "</style>\n",
              "<table border=\"1\" class=\"dataframe\">\n",
              "  <thead>\n",
              "    <tr style=\"text-align: right;\">\n",
              "      <th></th>\n",
              "      <th>TotalVisits</th>\n",
              "      <th>Total Time Spent on Website</th>\n",
              "      <th>Page Views Per Visit</th>\n",
              "      <th>Asymmetrique Activity Score</th>\n",
              "      <th>Asymmetrique Profile Score</th>\n",
              "    </tr>\n",
              "  </thead>\n",
              "  <tbody>\n",
              "    <tr>\n",
              "      <th>TotalVisits</th>\n",
              "      <td>1.000000</td>\n",
              "      <td>0.213276</td>\n",
              "      <td>0.500863</td>\n",
              "      <td>-0.041259</td>\n",
              "      <td>0.079921</td>\n",
              "    </tr>\n",
              "    <tr>\n",
              "      <th>Total Time Spent on Website</th>\n",
              "      <td>0.213276</td>\n",
              "      <td>1.000000</td>\n",
              "      <td>0.308859</td>\n",
              "      <td>-0.046450</td>\n",
              "      <td>0.123238</td>\n",
              "    </tr>\n",
              "    <tr>\n",
              "      <th>Page Views Per Visit</th>\n",
              "      <td>0.500863</td>\n",
              "      <td>0.308859</td>\n",
              "      <td>1.000000</td>\n",
              "      <td>-0.126385</td>\n",
              "      <td>0.117530</td>\n",
              "    </tr>\n",
              "    <tr>\n",
              "      <th>Asymmetrique Activity Score</th>\n",
              "      <td>-0.041259</td>\n",
              "      <td>-0.046450</td>\n",
              "      <td>-0.126385</td>\n",
              "      <td>1.000000</td>\n",
              "      <td>-0.130093</td>\n",
              "    </tr>\n",
              "    <tr>\n",
              "      <th>Asymmetrique Profile Score</th>\n",
              "      <td>0.079921</td>\n",
              "      <td>0.123238</td>\n",
              "      <td>0.117530</td>\n",
              "      <td>-0.130093</td>\n",
              "      <td>1.000000</td>\n",
              "    </tr>\n",
              "  </tbody>\n",
              "</table>\n",
              "</div>\n",
              "      <button class=\"colab-df-convert\" onclick=\"convertToInteractive('df-815b837c-2dd6-436a-bac5-111443665ab0')\"\n",
              "              title=\"Convert this dataframe to an interactive table.\"\n",
              "              style=\"display:none;\">\n",
              "        \n",
              "  <svg xmlns=\"http://www.w3.org/2000/svg\" height=\"24px\"viewBox=\"0 0 24 24\"\n",
              "       width=\"24px\">\n",
              "    <path d=\"M0 0h24v24H0V0z\" fill=\"none\"/>\n",
              "    <path d=\"M18.56 5.44l.94 2.06.94-2.06 2.06-.94-2.06-.94-.94-2.06-.94 2.06-2.06.94zm-11 1L8.5 8.5l.94-2.06 2.06-.94-2.06-.94L8.5 2.5l-.94 2.06-2.06.94zm10 10l.94 2.06.94-2.06 2.06-.94-2.06-.94-.94-2.06-.94 2.06-2.06.94z\"/><path d=\"M17.41 7.96l-1.37-1.37c-.4-.4-.92-.59-1.43-.59-.52 0-1.04.2-1.43.59L10.3 9.45l-7.72 7.72c-.78.78-.78 2.05 0 2.83L4 21.41c.39.39.9.59 1.41.59.51 0 1.02-.2 1.41-.59l7.78-7.78 2.81-2.81c.8-.78.8-2.07 0-2.86zM5.41 20L4 18.59l7.72-7.72 1.47 1.35L5.41 20z\"/>\n",
              "  </svg>\n",
              "      </button>\n",
              "      \n",
              "  <style>\n",
              "    .colab-df-container {\n",
              "      display:flex;\n",
              "      flex-wrap:wrap;\n",
              "      gap: 12px;\n",
              "    }\n",
              "\n",
              "    .colab-df-convert {\n",
              "      background-color: #E8F0FE;\n",
              "      border: none;\n",
              "      border-radius: 50%;\n",
              "      cursor: pointer;\n",
              "      display: none;\n",
              "      fill: #1967D2;\n",
              "      height: 32px;\n",
              "      padding: 0 0 0 0;\n",
              "      width: 32px;\n",
              "    }\n",
              "\n",
              "    .colab-df-convert:hover {\n",
              "      background-color: #E2EBFA;\n",
              "      box-shadow: 0px 1px 2px rgba(60, 64, 67, 0.3), 0px 1px 3px 1px rgba(60, 64, 67, 0.15);\n",
              "      fill: #174EA6;\n",
              "    }\n",
              "\n",
              "    [theme=dark] .colab-df-convert {\n",
              "      background-color: #3B4455;\n",
              "      fill: #D2E3FC;\n",
              "    }\n",
              "\n",
              "    [theme=dark] .colab-df-convert:hover {\n",
              "      background-color: #434B5C;\n",
              "      box-shadow: 0px 1px 3px 1px rgba(0, 0, 0, 0.15);\n",
              "      filter: drop-shadow(0px 1px 2px rgba(0, 0, 0, 0.3));\n",
              "      fill: #FFFFFF;\n",
              "    }\n",
              "  </style>\n",
              "\n",
              "      <script>\n",
              "        const buttonEl =\n",
              "          document.querySelector('#df-815b837c-2dd6-436a-bac5-111443665ab0 button.colab-df-convert');\n",
              "        buttonEl.style.display =\n",
              "          google.colab.kernel.accessAllowed ? 'block' : 'none';\n",
              "\n",
              "        async function convertToInteractive(key) {\n",
              "          const element = document.querySelector('#df-815b837c-2dd6-436a-bac5-111443665ab0');\n",
              "          const dataTable =\n",
              "            await google.colab.kernel.invokeFunction('convertToInteractive',\n",
              "                                                     [key], {});\n",
              "          if (!dataTable) return;\n",
              "\n",
              "          const docLinkHtml = 'Like what you see? Visit the ' +\n",
              "            '<a target=\"_blank\" href=https://colab.research.google.com/notebooks/data_table.ipynb>data table notebook</a>'\n",
              "            + ' to learn more about interactive tables.';\n",
              "          element.innerHTML = '';\n",
              "          dataTable['output_type'] = 'display_data';\n",
              "          await google.colab.output.renderOutput(dataTable, element);\n",
              "          const docLink = document.createElement('div');\n",
              "          docLink.innerHTML = docLinkHtml;\n",
              "          element.appendChild(docLink);\n",
              "        }\n",
              "      </script>\n",
              "    </div>\n",
              "  </div>\n",
              "  "
            ]
          },
          "metadata": {},
          "execution_count": 34
        }
      ]
    },
    {
      "cell_type": "markdown",
      "source": [
        "As we can see,  there are not any features pair which is highly correlated. If there were any, we could have performed feature selection based on correlations (drop one of two correlated pair), since two features that are highly correlated are not very informative."
      ],
      "metadata": {
        "id": "_tP3w3d-KbgY"
      }
    },
    {
      "cell_type": "code",
      "source": [
        "# Split into X_train and y_train \n",
        "\n",
        "X_train = train_data.drop(['Converted'],axis=1)\n",
        "y_train = train_data['Converted']\n"
      ],
      "metadata": {
        "id": "Wr0d79JUMPAa"
      },
      "execution_count": 35,
      "outputs": []
    },
    {
      "cell_type": "markdown",
      "source": [
        "Since the data have many features, we will use Feature Selection method which uses Random Forest. the random forest model, while trained, gives \"feature importance\" scores for the different features. The \"SelectFromModel\" method selects the features which their importance is greater than the treshold - which is the median of the feature importances. "
      ],
      "metadata": {
        "id": "qeqB2VHEfjl_"
      }
    },
    {
      "cell_type": "code",
      "source": [
        "sel = SelectFromModel(RandomForestClassifier(n_estimators = 100))\n",
        "sel.fit(X_train, y_train)"
      ],
      "metadata": {
        "colab": {
          "base_uri": "https://localhost:8080/"
        },
        "id": "2pLpOu0kSqs4",
        "outputId": "06dce235-72c9-4987-80a6-1194aef9a819"
      },
      "execution_count": 36,
      "outputs": [
        {
          "output_type": "execute_result",
          "data": {
            "text/plain": [
              "SelectFromModel(estimator=RandomForestClassifier())"
            ]
          },
          "metadata": {},
          "execution_count": 36
        }
      ]
    },
    {
      "cell_type": "code",
      "source": [
        "sel.get_support()"
      ],
      "metadata": {
        "colab": {
          "base_uri": "https://localhost:8080/"
        },
        "id": "nJYdORW1TOJv",
        "outputId": "5c97cb58-45f8-4958-87ce-f01b12d539fb"
      },
      "execution_count": 37,
      "outputs": [
        {
          "output_type": "execute_result",
          "data": {
            "text/plain": [
              "array([ True,  True,  True,  True,  True,  True,  True,  True,  True,\n",
              "        True, False, False, False, False,  True, False,  True, False,\n",
              "       False,  True,  True, False, False, False, False, False, False,\n",
              "       False, False, False, False, False, False, False, False, False,\n",
              "       False, False, False, False, False,  True, False, False, False,\n",
              "       False, False,  True, False, False, False, False, False, False,\n",
              "       False, False, False, False, False, False, False, False, False,\n",
              "       False, False, False, False, False, False, False, False, False,\n",
              "       False, False, False, False, False, False, False, False, False,\n",
              "       False, False, False, False, False, False, False, False, False,\n",
              "       False,  True, False, False,  True, False, False,  True, False,\n",
              "       False,  True, False, False, False, False, False, False, False,\n",
              "       False, False, False, False, False, False, False, False, False,\n",
              "       False, False, False, False, False, False, False, False, False,\n",
              "       False, False, False, False, False, False, False, False, False,\n",
              "       False, False, False, False, False, False, False,  True, False,\n",
              "       False, False, False,  True, False, False, False, False, False,\n",
              "       False, False, False,  True, False, False, False, False, False,\n",
              "       False,  True,  True, False, False, False, False,  True, False,\n",
              "       False,  True, False, False,  True, False, False, False])"
            ]
          },
          "metadata": {},
          "execution_count": 37
        }
      ]
    },
    {
      "cell_type": "code",
      "source": [
        "#Count the selected features\n",
        "selected_feat= X_train.columns[(sel.get_support())]\n",
        "len(selected_feat)\n"
      ],
      "metadata": {
        "colab": {
          "base_uri": "https://localhost:8080/"
        },
        "id": "qhG0MIAUTSUg",
        "outputId": "b1ca7762-93e8-418c-b30c-db99791f3938"
      },
      "execution_count": 38,
      "outputs": [
        {
          "output_type": "execute_result",
          "data": {
            "text/plain": [
              "28"
            ]
          },
          "metadata": {},
          "execution_count": 38
        }
      ]
    },
    {
      "cell_type": "code",
      "source": [
        "# The names of the selected features \n",
        "print(selected_feat)"
      ],
      "metadata": {
        "colab": {
          "base_uri": "https://localhost:8080/"
        },
        "id": "PtdLUviITZrS",
        "outputId": "f7cd4745-f60b-4143-9c06-f9125c060b96"
      },
      "execution_count": 39,
      "outputs": [
        {
          "output_type": "stream",
          "name": "stdout",
          "text": [
            "Index(['TotalVisits', 'Total Time Spent on Website', 'Page Views Per Visit',\n",
            "       'Lead Quality', 'Asymmetrique Activity Index',\n",
            "       'Asymmetrique Profile Index', 'Asymmetrique Activity Score',\n",
            "       'Asymmetrique Profile Score', 'Lead Origin_API',\n",
            "       'Lead Origin_Landing Page Submission', 'Lead Source_Direct Traffic',\n",
            "       'Lead Source_Google', 'Lead Source_Olark Chat',\n",
            "       'Lead Source_Organic Search', 'Last Activity_Email Opened',\n",
            "       'Last Activity_SMS Sent', 'Specialization_Finance Management',\n",
            "       'Specialization_Human Resource Management',\n",
            "       'Specialization_Marketing Management', 'Specialization_Others',\n",
            "       'Tags_Ringing', 'Tags_Will revert after reading the email',\n",
            "       'City_Mumbai', 'A free copy of Mastering The Interview_No',\n",
            "       'A free copy of Mastering The Interview_Yes',\n",
            "       'Last Notable Activity_Email Opened', 'Last Notable Activity_Modified',\n",
            "       'Last Notable Activity_SMS Sent'],\n",
            "      dtype='object')\n"
          ]
        }
      ]
    },
    {
      "cell_type": "code",
      "source": [
        "removed_cols = [col for col in train_data if col not in selected_feat]\n",
        "removed_cols.remove('Converted')"
      ],
      "metadata": {
        "id": "6swz336YTp5t"
      },
      "execution_count": 40,
      "outputs": []
    },
    {
      "cell_type": "code",
      "source": [
        "train_data = train_data.drop(removed_cols, axis =1)\n",
        "test_data = test_data.drop(removed_cols, axis =1 )"
      ],
      "metadata": {
        "id": "tXmdmqawUJoE"
      },
      "execution_count": 41,
      "outputs": []
    },
    {
      "cell_type": "code",
      "source": [
        "train_data"
      ],
      "metadata": {
        "colab": {
          "base_uri": "https://localhost:8080/",
          "height": 557
        },
        "id": "8sFzFlbgWZJf",
        "outputId": "d0d795bd-6ad6-4f76-9152-5ff6b5f4a254"
      },
      "execution_count": 42,
      "outputs": [
        {
          "output_type": "execute_result",
          "data": {
            "text/plain": [
              "      Converted  TotalVisits  Total Time Spent on Website  \\\n",
              "6487          0    -0.300106                    -0.454165   \n",
              "4759          0    -0.705136                    -0.889097   \n",
              "4368          0    -0.097591                    -0.168456   \n",
              "1467          1     0.104925                     0.737805   \n",
              "5517          0    -0.300106                    -0.628866   \n",
              "...         ...          ...                          ...   \n",
              "5734          0    -0.097591                    -0.652523   \n",
              "5191          0    -0.705136                    -0.889097   \n",
              "5390          1    -0.705136                    -0.889097   \n",
              "860           0    -0.097591                    -0.563353   \n",
              "7270          1    -0.300106                     2.402923   \n",
              "\n",
              "      Page Views Per Visit  Lead Quality  Asymmetrique Activity Index  \\\n",
              "6487             -0.173856             3                            1   \n",
              "4759             -1.095291             3                            1   \n",
              "4368              0.286861             4                            1   \n",
              "1467              0.747579             2                            1   \n",
              "5517             -0.173856             3                            1   \n",
              "...                    ...           ...                          ...   \n",
              "5734              0.286861             3                            1   \n",
              "5191             -1.095291             3                            1   \n",
              "5390             -1.095291             0                            1   \n",
              "860               0.286861             2                            2   \n",
              "7270             -0.634573             3                            1   \n",
              "\n",
              "      Asymmetrique Profile Index  Asymmetrique Activity Score  \\\n",
              "6487                           1                     0.000000   \n",
              "4759                           1                     0.000000   \n",
              "4368                           1                     0.000000   \n",
              "1467                           1                     0.679045   \n",
              "5517                           1                     0.000000   \n",
              "...                          ...                          ...   \n",
              "5734                           1                     0.000000   \n",
              "5191                           1                     0.000000   \n",
              "5390                           1                     0.000000   \n",
              "860                            1                    -2.261293   \n",
              "7270                           1                     0.000000   \n",
              "\n",
              "      Asymmetrique Profile Score  Lead Origin_API  ...  \\\n",
              "6487                    0.000000              0.0  ...   \n",
              "4759                    0.000000              0.0  ...   \n",
              "4368                    0.000000              0.0  ...   \n",
              "1467                   -1.747138              0.0  ...   \n",
              "5517                    0.000000              1.0  ...   \n",
              "...                          ...              ...  ...   \n",
              "5734                    0.000000              1.0  ...   \n",
              "5191                    0.000000              1.0  ...   \n",
              "5390                    0.000000              1.0  ...   \n",
              "860                    -0.261868              1.0  ...   \n",
              "7270                    0.000000              0.0  ...   \n",
              "\n",
              "      Specialization_Marketing Management  Specialization_Others  \\\n",
              "6487                                  0.0                    0.0   \n",
              "4759                                  0.0                    0.0   \n",
              "4368                                  0.0                    0.0   \n",
              "1467                                  1.0                    0.0   \n",
              "5517                                  0.0                    1.0   \n",
              "...                                   ...                    ...   \n",
              "5734                                  0.0                    1.0   \n",
              "5191                                  0.0                    1.0   \n",
              "5390                                  0.0                    0.0   \n",
              "860                                   0.0                    1.0   \n",
              "7270                                  0.0                    0.0   \n",
              "\n",
              "      Tags_Ringing  Tags_Will revert after reading the email  City_Mumbai  \\\n",
              "6487           0.0                                       0.0          0.0   \n",
              "4759           0.0                                       0.0          0.0   \n",
              "4368           0.0                                       1.0          1.0   \n",
              "1467           0.0                                       1.0          0.0   \n",
              "5517           0.0                                       1.0          1.0   \n",
              "...            ...                                       ...          ...   \n",
              "5734           1.0                                       0.0          1.0   \n",
              "5191           1.0                                       0.0          1.0   \n",
              "5390           0.0                                       1.0          1.0   \n",
              "860            0.0                                       0.0          1.0   \n",
              "7270           0.0                                       0.0          1.0   \n",
              "\n",
              "      A free copy of Mastering The Interview_No  \\\n",
              "6487                                        0.0   \n",
              "4759                                        1.0   \n",
              "4368                                        1.0   \n",
              "1467                                        1.0   \n",
              "5517                                        1.0   \n",
              "...                                         ...   \n",
              "5734                                        1.0   \n",
              "5191                                        1.0   \n",
              "5390                                        1.0   \n",
              "860                                         1.0   \n",
              "7270                                        0.0   \n",
              "\n",
              "      A free copy of Mastering The Interview_Yes  \\\n",
              "6487                                         1.0   \n",
              "4759                                         0.0   \n",
              "4368                                         0.0   \n",
              "1467                                         0.0   \n",
              "5517                                         0.0   \n",
              "...                                          ...   \n",
              "5734                                         0.0   \n",
              "5191                                         0.0   \n",
              "5390                                         0.0   \n",
              "860                                          0.0   \n",
              "7270                                         1.0   \n",
              "\n",
              "      Last Notable Activity_Email Opened  Last Notable Activity_Modified  \\\n",
              "6487                                 0.0                             1.0   \n",
              "4759                                 0.0                             0.0   \n",
              "4368                                 1.0                             0.0   \n",
              "1467                                 0.0                             0.0   \n",
              "5517                                 1.0                             0.0   \n",
              "...                                  ...                             ...   \n",
              "5734                                 0.0                             1.0   \n",
              "5191                                 1.0                             0.0   \n",
              "5390                                 0.0                             0.0   \n",
              "860                                  0.0                             1.0   \n",
              "7270                                 0.0                             1.0   \n",
              "\n",
              "      Last Notable Activity_SMS Sent  \n",
              "6487                             0.0  \n",
              "4759                             0.0  \n",
              "4368                             0.0  \n",
              "1467                             1.0  \n",
              "5517                             0.0  \n",
              "...                              ...  \n",
              "5734                             0.0  \n",
              "5191                             0.0  \n",
              "5390                             1.0  \n",
              "860                              0.0  \n",
              "7270                             0.0  \n",
              "\n",
              "[7392 rows x 29 columns]"
            ],
            "text/html": [
              "\n",
              "  <div id=\"df-a88e726a-edce-43be-b110-2467d7b06c15\">\n",
              "    <div class=\"colab-df-container\">\n",
              "      <div>\n",
              "<style scoped>\n",
              "    .dataframe tbody tr th:only-of-type {\n",
              "        vertical-align: middle;\n",
              "    }\n",
              "\n",
              "    .dataframe tbody tr th {\n",
              "        vertical-align: top;\n",
              "    }\n",
              "\n",
              "    .dataframe thead th {\n",
              "        text-align: right;\n",
              "    }\n",
              "</style>\n",
              "<table border=\"1\" class=\"dataframe\">\n",
              "  <thead>\n",
              "    <tr style=\"text-align: right;\">\n",
              "      <th></th>\n",
              "      <th>Converted</th>\n",
              "      <th>TotalVisits</th>\n",
              "      <th>Total Time Spent on Website</th>\n",
              "      <th>Page Views Per Visit</th>\n",
              "      <th>Lead Quality</th>\n",
              "      <th>Asymmetrique Activity Index</th>\n",
              "      <th>Asymmetrique Profile Index</th>\n",
              "      <th>Asymmetrique Activity Score</th>\n",
              "      <th>Asymmetrique Profile Score</th>\n",
              "      <th>Lead Origin_API</th>\n",
              "      <th>...</th>\n",
              "      <th>Specialization_Marketing Management</th>\n",
              "      <th>Specialization_Others</th>\n",
              "      <th>Tags_Ringing</th>\n",
              "      <th>Tags_Will revert after reading the email</th>\n",
              "      <th>City_Mumbai</th>\n",
              "      <th>A free copy of Mastering The Interview_No</th>\n",
              "      <th>A free copy of Mastering The Interview_Yes</th>\n",
              "      <th>Last Notable Activity_Email Opened</th>\n",
              "      <th>Last Notable Activity_Modified</th>\n",
              "      <th>Last Notable Activity_SMS Sent</th>\n",
              "    </tr>\n",
              "  </thead>\n",
              "  <tbody>\n",
              "    <tr>\n",
              "      <th>6487</th>\n",
              "      <td>0</td>\n",
              "      <td>-0.300106</td>\n",
              "      <td>-0.454165</td>\n",
              "      <td>-0.173856</td>\n",
              "      <td>3</td>\n",
              "      <td>1</td>\n",
              "      <td>1</td>\n",
              "      <td>0.000000</td>\n",
              "      <td>0.000000</td>\n",
              "      <td>0.0</td>\n",
              "      <td>...</td>\n",
              "      <td>0.0</td>\n",
              "      <td>0.0</td>\n",
              "      <td>0.0</td>\n",
              "      <td>0.0</td>\n",
              "      <td>0.0</td>\n",
              "      <td>0.0</td>\n",
              "      <td>1.0</td>\n",
              "      <td>0.0</td>\n",
              "      <td>1.0</td>\n",
              "      <td>0.0</td>\n",
              "    </tr>\n",
              "    <tr>\n",
              "      <th>4759</th>\n",
              "      <td>0</td>\n",
              "      <td>-0.705136</td>\n",
              "      <td>-0.889097</td>\n",
              "      <td>-1.095291</td>\n",
              "      <td>3</td>\n",
              "      <td>1</td>\n",
              "      <td>1</td>\n",
              "      <td>0.000000</td>\n",
              "      <td>0.000000</td>\n",
              "      <td>0.0</td>\n",
              "      <td>...</td>\n",
              "      <td>0.0</td>\n",
              "      <td>0.0</td>\n",
              "      <td>0.0</td>\n",
              "      <td>0.0</td>\n",
              "      <td>0.0</td>\n",
              "      <td>1.0</td>\n",
              "      <td>0.0</td>\n",
              "      <td>0.0</td>\n",
              "      <td>0.0</td>\n",
              "      <td>0.0</td>\n",
              "    </tr>\n",
              "    <tr>\n",
              "      <th>4368</th>\n",
              "      <td>0</td>\n",
              "      <td>-0.097591</td>\n",
              "      <td>-0.168456</td>\n",
              "      <td>0.286861</td>\n",
              "      <td>4</td>\n",
              "      <td>1</td>\n",
              "      <td>1</td>\n",
              "      <td>0.000000</td>\n",
              "      <td>0.000000</td>\n",
              "      <td>0.0</td>\n",
              "      <td>...</td>\n",
              "      <td>0.0</td>\n",
              "      <td>0.0</td>\n",
              "      <td>0.0</td>\n",
              "      <td>1.0</td>\n",
              "      <td>1.0</td>\n",
              "      <td>1.0</td>\n",
              "      <td>0.0</td>\n",
              "      <td>1.0</td>\n",
              "      <td>0.0</td>\n",
              "      <td>0.0</td>\n",
              "    </tr>\n",
              "    <tr>\n",
              "      <th>1467</th>\n",
              "      <td>1</td>\n",
              "      <td>0.104925</td>\n",
              "      <td>0.737805</td>\n",
              "      <td>0.747579</td>\n",
              "      <td>2</td>\n",
              "      <td>1</td>\n",
              "      <td>1</td>\n",
              "      <td>0.679045</td>\n",
              "      <td>-1.747138</td>\n",
              "      <td>0.0</td>\n",
              "      <td>...</td>\n",
              "      <td>1.0</td>\n",
              "      <td>0.0</td>\n",
              "      <td>0.0</td>\n",
              "      <td>1.0</td>\n",
              "      <td>0.0</td>\n",
              "      <td>1.0</td>\n",
              "      <td>0.0</td>\n",
              "      <td>0.0</td>\n",
              "      <td>0.0</td>\n",
              "      <td>1.0</td>\n",
              "    </tr>\n",
              "    <tr>\n",
              "      <th>5517</th>\n",
              "      <td>0</td>\n",
              "      <td>-0.300106</td>\n",
              "      <td>-0.628866</td>\n",
              "      <td>-0.173856</td>\n",
              "      <td>3</td>\n",
              "      <td>1</td>\n",
              "      <td>1</td>\n",
              "      <td>0.000000</td>\n",
              "      <td>0.000000</td>\n",
              "      <td>1.0</td>\n",
              "      <td>...</td>\n",
              "      <td>0.0</td>\n",
              "      <td>1.0</td>\n",
              "      <td>0.0</td>\n",
              "      <td>1.0</td>\n",
              "      <td>1.0</td>\n",
              "      <td>1.0</td>\n",
              "      <td>0.0</td>\n",
              "      <td>1.0</td>\n",
              "      <td>0.0</td>\n",
              "      <td>0.0</td>\n",
              "    </tr>\n",
              "    <tr>\n",
              "      <th>...</th>\n",
              "      <td>...</td>\n",
              "      <td>...</td>\n",
              "      <td>...</td>\n",
              "      <td>...</td>\n",
              "      <td>...</td>\n",
              "      <td>...</td>\n",
              "      <td>...</td>\n",
              "      <td>...</td>\n",
              "      <td>...</td>\n",
              "      <td>...</td>\n",
              "      <td>...</td>\n",
              "      <td>...</td>\n",
              "      <td>...</td>\n",
              "      <td>...</td>\n",
              "      <td>...</td>\n",
              "      <td>...</td>\n",
              "      <td>...</td>\n",
              "      <td>...</td>\n",
              "      <td>...</td>\n",
              "      <td>...</td>\n",
              "      <td>...</td>\n",
              "    </tr>\n",
              "    <tr>\n",
              "      <th>5734</th>\n",
              "      <td>0</td>\n",
              "      <td>-0.097591</td>\n",
              "      <td>-0.652523</td>\n",
              "      <td>0.286861</td>\n",
              "      <td>3</td>\n",
              "      <td>1</td>\n",
              "      <td>1</td>\n",
              "      <td>0.000000</td>\n",
              "      <td>0.000000</td>\n",
              "      <td>1.0</td>\n",
              "      <td>...</td>\n",
              "      <td>0.0</td>\n",
              "      <td>1.0</td>\n",
              "      <td>1.0</td>\n",
              "      <td>0.0</td>\n",
              "      <td>1.0</td>\n",
              "      <td>1.0</td>\n",
              "      <td>0.0</td>\n",
              "      <td>0.0</td>\n",
              "      <td>1.0</td>\n",
              "      <td>0.0</td>\n",
              "    </tr>\n",
              "    <tr>\n",
              "      <th>5191</th>\n",
              "      <td>0</td>\n",
              "      <td>-0.705136</td>\n",
              "      <td>-0.889097</td>\n",
              "      <td>-1.095291</td>\n",
              "      <td>3</td>\n",
              "      <td>1</td>\n",
              "      <td>1</td>\n",
              "      <td>0.000000</td>\n",
              "      <td>0.000000</td>\n",
              "      <td>1.0</td>\n",
              "      <td>...</td>\n",
              "      <td>0.0</td>\n",
              "      <td>1.0</td>\n",
              "      <td>1.0</td>\n",
              "      <td>0.0</td>\n",
              "      <td>1.0</td>\n",
              "      <td>1.0</td>\n",
              "      <td>0.0</td>\n",
              "      <td>1.0</td>\n",
              "      <td>0.0</td>\n",
              "      <td>0.0</td>\n",
              "    </tr>\n",
              "    <tr>\n",
              "      <th>5390</th>\n",
              "      <td>1</td>\n",
              "      <td>-0.705136</td>\n",
              "      <td>-0.889097</td>\n",
              "      <td>-1.095291</td>\n",
              "      <td>0</td>\n",
              "      <td>1</td>\n",
              "      <td>1</td>\n",
              "      <td>0.000000</td>\n",
              "      <td>0.000000</td>\n",
              "      <td>1.0</td>\n",
              "      <td>...</td>\n",
              "      <td>0.0</td>\n",
              "      <td>0.0</td>\n",
              "      <td>0.0</td>\n",
              "      <td>1.0</td>\n",
              "      <td>1.0</td>\n",
              "      <td>1.0</td>\n",
              "      <td>0.0</td>\n",
              "      <td>0.0</td>\n",
              "      <td>0.0</td>\n",
              "      <td>1.0</td>\n",
              "    </tr>\n",
              "    <tr>\n",
              "      <th>860</th>\n",
              "      <td>0</td>\n",
              "      <td>-0.097591</td>\n",
              "      <td>-0.563353</td>\n",
              "      <td>0.286861</td>\n",
              "      <td>2</td>\n",
              "      <td>2</td>\n",
              "      <td>1</td>\n",
              "      <td>-2.261293</td>\n",
              "      <td>-0.261868</td>\n",
              "      <td>1.0</td>\n",
              "      <td>...</td>\n",
              "      <td>0.0</td>\n",
              "      <td>1.0</td>\n",
              "      <td>0.0</td>\n",
              "      <td>0.0</td>\n",
              "      <td>1.0</td>\n",
              "      <td>1.0</td>\n",
              "      <td>0.0</td>\n",
              "      <td>0.0</td>\n",
              "      <td>1.0</td>\n",
              "      <td>0.0</td>\n",
              "    </tr>\n",
              "    <tr>\n",
              "      <th>7270</th>\n",
              "      <td>1</td>\n",
              "      <td>-0.300106</td>\n",
              "      <td>2.402923</td>\n",
              "      <td>-0.634573</td>\n",
              "      <td>3</td>\n",
              "      <td>1</td>\n",
              "      <td>1</td>\n",
              "      <td>0.000000</td>\n",
              "      <td>0.000000</td>\n",
              "      <td>0.0</td>\n",
              "      <td>...</td>\n",
              "      <td>0.0</td>\n",
              "      <td>0.0</td>\n",
              "      <td>0.0</td>\n",
              "      <td>0.0</td>\n",
              "      <td>1.0</td>\n",
              "      <td>0.0</td>\n",
              "      <td>1.0</td>\n",
              "      <td>0.0</td>\n",
              "      <td>1.0</td>\n",
              "      <td>0.0</td>\n",
              "    </tr>\n",
              "  </tbody>\n",
              "</table>\n",
              "<p>7392 rows × 29 columns</p>\n",
              "</div>\n",
              "      <button class=\"colab-df-convert\" onclick=\"convertToInteractive('df-a88e726a-edce-43be-b110-2467d7b06c15')\"\n",
              "              title=\"Convert this dataframe to an interactive table.\"\n",
              "              style=\"display:none;\">\n",
              "        \n",
              "  <svg xmlns=\"http://www.w3.org/2000/svg\" height=\"24px\"viewBox=\"0 0 24 24\"\n",
              "       width=\"24px\">\n",
              "    <path d=\"M0 0h24v24H0V0z\" fill=\"none\"/>\n",
              "    <path d=\"M18.56 5.44l.94 2.06.94-2.06 2.06-.94-2.06-.94-.94-2.06-.94 2.06-2.06.94zm-11 1L8.5 8.5l.94-2.06 2.06-.94-2.06-.94L8.5 2.5l-.94 2.06-2.06.94zm10 10l.94 2.06.94-2.06 2.06-.94-2.06-.94-.94-2.06-.94 2.06-2.06.94z\"/><path d=\"M17.41 7.96l-1.37-1.37c-.4-.4-.92-.59-1.43-.59-.52 0-1.04.2-1.43.59L10.3 9.45l-7.72 7.72c-.78.78-.78 2.05 0 2.83L4 21.41c.39.39.9.59 1.41.59.51 0 1.02-.2 1.41-.59l7.78-7.78 2.81-2.81c.8-.78.8-2.07 0-2.86zM5.41 20L4 18.59l7.72-7.72 1.47 1.35L5.41 20z\"/>\n",
              "  </svg>\n",
              "      </button>\n",
              "      \n",
              "  <style>\n",
              "    .colab-df-container {\n",
              "      display:flex;\n",
              "      flex-wrap:wrap;\n",
              "      gap: 12px;\n",
              "    }\n",
              "\n",
              "    .colab-df-convert {\n",
              "      background-color: #E8F0FE;\n",
              "      border: none;\n",
              "      border-radius: 50%;\n",
              "      cursor: pointer;\n",
              "      display: none;\n",
              "      fill: #1967D2;\n",
              "      height: 32px;\n",
              "      padding: 0 0 0 0;\n",
              "      width: 32px;\n",
              "    }\n",
              "\n",
              "    .colab-df-convert:hover {\n",
              "      background-color: #E2EBFA;\n",
              "      box-shadow: 0px 1px 2px rgba(60, 64, 67, 0.3), 0px 1px 3px 1px rgba(60, 64, 67, 0.15);\n",
              "      fill: #174EA6;\n",
              "    }\n",
              "\n",
              "    [theme=dark] .colab-df-convert {\n",
              "      background-color: #3B4455;\n",
              "      fill: #D2E3FC;\n",
              "    }\n",
              "\n",
              "    [theme=dark] .colab-df-convert:hover {\n",
              "      background-color: #434B5C;\n",
              "      box-shadow: 0px 1px 3px 1px rgba(0, 0, 0, 0.15);\n",
              "      filter: drop-shadow(0px 1px 2px rgba(0, 0, 0, 0.3));\n",
              "      fill: #FFFFFF;\n",
              "    }\n",
              "  </style>\n",
              "\n",
              "      <script>\n",
              "        const buttonEl =\n",
              "          document.querySelector('#df-a88e726a-edce-43be-b110-2467d7b06c15 button.colab-df-convert');\n",
              "        buttonEl.style.display =\n",
              "          google.colab.kernel.accessAllowed ? 'block' : 'none';\n",
              "\n",
              "        async function convertToInteractive(key) {\n",
              "          const element = document.querySelector('#df-a88e726a-edce-43be-b110-2467d7b06c15');\n",
              "          const dataTable =\n",
              "            await google.colab.kernel.invokeFunction('convertToInteractive',\n",
              "                                                     [key], {});\n",
              "          if (!dataTable) return;\n",
              "\n",
              "          const docLinkHtml = 'Like what you see? Visit the ' +\n",
              "            '<a target=\"_blank\" href=https://colab.research.google.com/notebooks/data_table.ipynb>data table notebook</a>'\n",
              "            + ' to learn more about interactive tables.';\n",
              "          element.innerHTML = '';\n",
              "          dataTable['output_type'] = 'display_data';\n",
              "          await google.colab.output.renderOutput(dataTable, element);\n",
              "          const docLink = document.createElement('div');\n",
              "          docLink.innerHTML = docLinkHtml;\n",
              "          element.appendChild(docLink);\n",
              "        }\n",
              "      </script>\n",
              "    </div>\n",
              "  </div>\n",
              "  "
            ]
          },
          "metadata": {},
          "execution_count": 42
        }
      ]
    },
    {
      "cell_type": "markdown",
      "source": [
        "## Models "
      ],
      "metadata": {
        "id": "h33a8sFnVWop"
      }
    },
    {
      "cell_type": "code",
      "source": [
        "X_train = train_data.drop(['Converted'],axis=1)\n",
        "y_train = train_data['Converted']\n",
        "\n",
        "X_test = test_data.drop(['Converted'],axis=1)\n",
        "y_test = test_data['Converted']\n",
        " "
      ],
      "metadata": {
        "id": "aSRLBjzHVXDv"
      },
      "execution_count": 43,
      "outputs": []
    },
    {
      "cell_type": "code",
      "source": [
        "warnings.filterwarnings('ignore')\n",
        "\n",
        "pipe = Pipeline([('scaler', StandardScaler()), ('estimator', xgb.XGBClassifier())]) # we will perform scaling for each fold separately.\n",
        "\n",
        "# Add a dict of estimator and estimator related parameters in this list\n",
        "params_grid = [\n",
        "               {\n",
        "                'estimator':[SVC()],\n",
        "                'estimator__C': [1, 10,20],\n",
        "                'estimator__gamma': [0.001, 0.1],\n",
        "                'estimator__class_weight': [None, 'balanced'],\n",
        "                },\n",
        "                {\n",
        "                'estimator': [DecisionTreeClassifier()],\n",
        "                'estimator__max_depth': [1,2,5, 20],\n",
        "                }, \n",
        "                {\n",
        "                'estimator' : [RandomForestClassifier()],\n",
        "                'estimator__n_estimators': [1,2,5,20],\n",
        "                'estimator__max_depth': [5,8,10],\n",
        "                'estimator__min_samples_split': [2, 5, 10, 15],\n",
        "                'estimator__min_samples_leaf': [1, 2, 5, 10] \n",
        "                },\n",
        "                {\n",
        "                'estimator' : [xgb.XGBClassifier()],\n",
        "                'estimator__pca__n_components': [5, 10, 15],\n",
        "                'estimator__model__max_depth': [3, 5, 10],\n",
        "                'estimator__model__n_estimators': [2,5,10],\n",
        "                },\n",
        "                {\n",
        "                'estimator' : [LogisticRegression()],\n",
        "                'estimator__penalty': ['l1', 'l2'],\n",
        "                'estimator__C': [0.001,0.01,1],\n",
        "                },\n",
        "              ]\n",
        "\n",
        "grid = GridSearchCV(pipe, params_grid, cv = 5, scoring='roc_auc', verbose=10, n_jobs = -1)\n",
        "\n",
        "grid.fit(X_train, y_train)\n",
        "\n",
        "best_model = grid.best_estimator_   "
      ],
      "metadata": {
        "colab": {
          "base_uri": "https://localhost:8080/"
        },
        "id": "-JrgbjiBXDxW",
        "outputId": "76061d22-404f-474c-e0b1-13689b0273e6"
      },
      "execution_count": 44,
      "outputs": [
        {
          "output_type": "stream",
          "name": "stdout",
          "text": [
            "Fitting 5 folds for each of 241 candidates, totalling 1205 fits\n"
          ]
        }
      ]
    },
    {
      "cell_type": "markdown",
      "source": [
        "The best model chosen according to auc score, with the best parameters of the tuning:"
      ],
      "metadata": {
        "id": "aZykAE5toqxb"
      }
    },
    {
      "cell_type": "code",
      "source": [
        "best_model"
      ],
      "metadata": {
        "id": "q_vvbW7tcnwz",
        "colab": {
          "base_uri": "https://localhost:8080/"
        },
        "outputId": "bfde2e3f-5111-4421-898d-3630fdcea489"
      },
      "execution_count": 45,
      "outputs": [
        {
          "output_type": "execute_result",
          "data": {
            "text/plain": [
              "Pipeline(steps=[('scaler', StandardScaler()),\n",
              "                ('estimator',\n",
              "                 XGBClassifier(model__max_depth=3, model__n_estimators=2,\n",
              "                               pca__n_components=5))])"
            ]
          },
          "metadata": {},
          "execution_count": 45
        }
      ]
    },
    {
      "cell_type": "markdown",
      "source": [
        "## Evaluation Phase\n"
      ],
      "metadata": {
        "id": "6MKud5WyfqBx"
      }
    },
    {
      "cell_type": "markdown",
      "source": [
        "Since the class values distribution is balanced, we can use Accuracy measure. Therefore, we will examine the following metrics:\n",
        "1. AUC\n",
        "2. F-score\n",
        "3. Accuracy\n",
        "4. Recall\n",
        "5. Precision"
      ],
      "metadata": {
        "id": "UXOMj-ELfvre"
      }
    },
    {
      "cell_type": "code",
      "source": [
        "predictions = best_model.predict(X_test)"
      ],
      "metadata": {
        "id": "pl0WJMofgcRA"
      },
      "execution_count": 46,
      "outputs": []
    },
    {
      "cell_type": "code",
      "source": [
        "from sklearn.metrics import roc_auc_score\n",
        "auc = roc_auc_score(y_test, predictions, average=None)\n",
        "print('AUC score for the test set is:', auc )"
      ],
      "metadata": {
        "id": "2jz0Qoazge_c",
        "colab": {
          "base_uri": "https://localhost:8080/"
        },
        "outputId": "aeec80f8-4442-42d5-b6d5-3a6de1a8d891"
      },
      "execution_count": 47,
      "outputs": [
        {
          "output_type": "stream",
          "name": "stdout",
          "text": [
            "AUC score for the test set is: 0.8081147208233216\n"
          ]
        }
      ]
    },
    {
      "cell_type": "code",
      "source": [
        "from sklearn.metrics import accuracy_score,recall_score,precision_score,f1_score\n",
        "\n",
        "f_score = f1_score(y_test, predictions, average='weighted')\n",
        "print('F-Score for the test set is:', f_score )"
      ],
      "metadata": {
        "id": "V5IIfaE6hdaM",
        "colab": {
          "base_uri": "https://localhost:8080/"
        },
        "outputId": "f32f8457-79b9-4bf4-b340-533914f38b7d"
      },
      "execution_count": 48,
      "outputs": [
        {
          "output_type": "stream",
          "name": "stdout",
          "text": [
            "F-Score for the test set is: 0.8201780712284913\n"
          ]
        }
      ]
    },
    {
      "cell_type": "code",
      "source": [
        "recall = recall_score(y_test, predictions)\n",
        "print('Recall for the test set is:', recall )"
      ],
      "metadata": {
        "id": "w8v9UlGJjbzX",
        "colab": {
          "base_uri": "https://localhost:8080/"
        },
        "outputId": "e9ccfa94-9a50-457b-ab93-87d45d590741"
      },
      "execution_count": 49,
      "outputs": [
        {
          "output_type": "stream",
          "name": "stdout",
          "text": [
            "Recall for the test set is: 0.7408906882591093\n"
          ]
        }
      ]
    },
    {
      "cell_type": "code",
      "source": [
        "precision = precision_score(y_test, predictions)\n",
        "print('Precision for the test set is:', precision )"
      ],
      "metadata": {
        "id": "Y8iBUIlDjhRK",
        "colab": {
          "base_uri": "https://localhost:8080/"
        },
        "outputId": "5ac8aa3c-d345-40bd-ec76-1ff9b9ab5938"
      },
      "execution_count": 50,
      "outputs": [
        {
          "output_type": "stream",
          "name": "stdout",
          "text": [
            "Precision for the test set is: 0.7991266375545851\n"
          ]
        }
      ]
    },
    {
      "cell_type": "markdown",
      "source": [
        "We can see that the scores in the different matrices are pretty similar, and the score with the highest value is F1-Score. \n"
      ],
      "metadata": {
        "id": "ebc3DyfPjnKS"
      }
    },
    {
      "cell_type": "markdown",
      "source": [
        "## Benchmark of the results "
      ],
      "metadata": {
        "id": "LbI5xVGFj5PE"
      }
    },
    {
      "cell_type": "code",
      "source": [
        "prob_predictions = best_model.predict_proba(X_test)\n",
        "scores_preds = [prob[1]*100 for prob in prob_predictions]\n"
      ],
      "metadata": {
        "id": "KD52rNGNpQvN"
      },
      "execution_count": 51,
      "outputs": []
    },
    {
      "cell_type": "code",
      "source": [
        "d = {'LeadNumber': list(test_lead_number), 'Score': sorted(scores_preds, reverse = True)}"
      ],
      "metadata": {
        "id": "G-Xtc2R-j9Fm"
      },
      "execution_count": 56,
      "outputs": []
    },
    {
      "cell_type": "markdown",
      "source": [
        "The benchmark contain a score for each Lead Number, each score is between 0 to 100 and is computated by multiplying the probability received by the model by 100. By looking at the benchmark, we can identify the leads with the highest probability to be converted. "
      ],
      "metadata": {
        "id": "3LjUuMeSpGP2"
      }
    },
    {
      "cell_type": "code",
      "source": [
        "benchmark = pd.DataFrame(data=d)\n",
        "benchmark"
      ],
      "metadata": {
        "id": "nWUNlSZPpJYi",
        "colab": {
          "base_uri": "https://localhost:8080/",
          "height": 424
        },
        "outputId": "8f9ec3f2-5fe8-4192-e82d-d3dd34bb3a72"
      },
      "execution_count": 57,
      "outputs": [
        {
          "output_type": "execute_result",
          "data": {
            "text/plain": [
              "      LeadNumber      Score\n",
              "0         615582  99.023294\n",
              "1         588939  99.016726\n",
              "2         621242  98.961943\n",
              "3         589803  98.953664\n",
              "4         651441  98.899114\n",
              "...          ...        ...\n",
              "1843      592785   0.627542\n",
              "1844      630603   0.602655\n",
              "1845      654192   0.569277\n",
              "1846      619497   0.547808\n",
              "1847      593049   0.449591\n",
              "\n",
              "[1848 rows x 2 columns]"
            ],
            "text/html": [
              "\n",
              "  <div id=\"df-8f693c74-37b7-4721-9d38-3dbae5973caf\">\n",
              "    <div class=\"colab-df-container\">\n",
              "      <div>\n",
              "<style scoped>\n",
              "    .dataframe tbody tr th:only-of-type {\n",
              "        vertical-align: middle;\n",
              "    }\n",
              "\n",
              "    .dataframe tbody tr th {\n",
              "        vertical-align: top;\n",
              "    }\n",
              "\n",
              "    .dataframe thead th {\n",
              "        text-align: right;\n",
              "    }\n",
              "</style>\n",
              "<table border=\"1\" class=\"dataframe\">\n",
              "  <thead>\n",
              "    <tr style=\"text-align: right;\">\n",
              "      <th></th>\n",
              "      <th>LeadNumber</th>\n",
              "      <th>Score</th>\n",
              "    </tr>\n",
              "  </thead>\n",
              "  <tbody>\n",
              "    <tr>\n",
              "      <th>0</th>\n",
              "      <td>615582</td>\n",
              "      <td>99.023294</td>\n",
              "    </tr>\n",
              "    <tr>\n",
              "      <th>1</th>\n",
              "      <td>588939</td>\n",
              "      <td>99.016726</td>\n",
              "    </tr>\n",
              "    <tr>\n",
              "      <th>2</th>\n",
              "      <td>621242</td>\n",
              "      <td>98.961943</td>\n",
              "    </tr>\n",
              "    <tr>\n",
              "      <th>3</th>\n",
              "      <td>589803</td>\n",
              "      <td>98.953664</td>\n",
              "    </tr>\n",
              "    <tr>\n",
              "      <th>4</th>\n",
              "      <td>651441</td>\n",
              "      <td>98.899114</td>\n",
              "    </tr>\n",
              "    <tr>\n",
              "      <th>...</th>\n",
              "      <td>...</td>\n",
              "      <td>...</td>\n",
              "    </tr>\n",
              "    <tr>\n",
              "      <th>1843</th>\n",
              "      <td>592785</td>\n",
              "      <td>0.627542</td>\n",
              "    </tr>\n",
              "    <tr>\n",
              "      <th>1844</th>\n",
              "      <td>630603</td>\n",
              "      <td>0.602655</td>\n",
              "    </tr>\n",
              "    <tr>\n",
              "      <th>1845</th>\n",
              "      <td>654192</td>\n",
              "      <td>0.569277</td>\n",
              "    </tr>\n",
              "    <tr>\n",
              "      <th>1846</th>\n",
              "      <td>619497</td>\n",
              "      <td>0.547808</td>\n",
              "    </tr>\n",
              "    <tr>\n",
              "      <th>1847</th>\n",
              "      <td>593049</td>\n",
              "      <td>0.449591</td>\n",
              "    </tr>\n",
              "  </tbody>\n",
              "</table>\n",
              "<p>1848 rows × 2 columns</p>\n",
              "</div>\n",
              "      <button class=\"colab-df-convert\" onclick=\"convertToInteractive('df-8f693c74-37b7-4721-9d38-3dbae5973caf')\"\n",
              "              title=\"Convert this dataframe to an interactive table.\"\n",
              "              style=\"display:none;\">\n",
              "        \n",
              "  <svg xmlns=\"http://www.w3.org/2000/svg\" height=\"24px\"viewBox=\"0 0 24 24\"\n",
              "       width=\"24px\">\n",
              "    <path d=\"M0 0h24v24H0V0z\" fill=\"none\"/>\n",
              "    <path d=\"M18.56 5.44l.94 2.06.94-2.06 2.06-.94-2.06-.94-.94-2.06-.94 2.06-2.06.94zm-11 1L8.5 8.5l.94-2.06 2.06-.94-2.06-.94L8.5 2.5l-.94 2.06-2.06.94zm10 10l.94 2.06.94-2.06 2.06-.94-2.06-.94-.94-2.06-.94 2.06-2.06.94z\"/><path d=\"M17.41 7.96l-1.37-1.37c-.4-.4-.92-.59-1.43-.59-.52 0-1.04.2-1.43.59L10.3 9.45l-7.72 7.72c-.78.78-.78 2.05 0 2.83L4 21.41c.39.39.9.59 1.41.59.51 0 1.02-.2 1.41-.59l7.78-7.78 2.81-2.81c.8-.78.8-2.07 0-2.86zM5.41 20L4 18.59l7.72-7.72 1.47 1.35L5.41 20z\"/>\n",
              "  </svg>\n",
              "      </button>\n",
              "      \n",
              "  <style>\n",
              "    .colab-df-container {\n",
              "      display:flex;\n",
              "      flex-wrap:wrap;\n",
              "      gap: 12px;\n",
              "    }\n",
              "\n",
              "    .colab-df-convert {\n",
              "      background-color: #E8F0FE;\n",
              "      border: none;\n",
              "      border-radius: 50%;\n",
              "      cursor: pointer;\n",
              "      display: none;\n",
              "      fill: #1967D2;\n",
              "      height: 32px;\n",
              "      padding: 0 0 0 0;\n",
              "      width: 32px;\n",
              "    }\n",
              "\n",
              "    .colab-df-convert:hover {\n",
              "      background-color: #E2EBFA;\n",
              "      box-shadow: 0px 1px 2px rgba(60, 64, 67, 0.3), 0px 1px 3px 1px rgba(60, 64, 67, 0.15);\n",
              "      fill: #174EA6;\n",
              "    }\n",
              "\n",
              "    [theme=dark] .colab-df-convert {\n",
              "      background-color: #3B4455;\n",
              "      fill: #D2E3FC;\n",
              "    }\n",
              "\n",
              "    [theme=dark] .colab-df-convert:hover {\n",
              "      background-color: #434B5C;\n",
              "      box-shadow: 0px 1px 3px 1px rgba(0, 0, 0, 0.15);\n",
              "      filter: drop-shadow(0px 1px 2px rgba(0, 0, 0, 0.3));\n",
              "      fill: #FFFFFF;\n",
              "    }\n",
              "  </style>\n",
              "\n",
              "      <script>\n",
              "        const buttonEl =\n",
              "          document.querySelector('#df-8f693c74-37b7-4721-9d38-3dbae5973caf button.colab-df-convert');\n",
              "        buttonEl.style.display =\n",
              "          google.colab.kernel.accessAllowed ? 'block' : 'none';\n",
              "\n",
              "        async function convertToInteractive(key) {\n",
              "          const element = document.querySelector('#df-8f693c74-37b7-4721-9d38-3dbae5973caf');\n",
              "          const dataTable =\n",
              "            await google.colab.kernel.invokeFunction('convertToInteractive',\n",
              "                                                     [key], {});\n",
              "          if (!dataTable) return;\n",
              "\n",
              "          const docLinkHtml = 'Like what you see? Visit the ' +\n",
              "            '<a target=\"_blank\" href=https://colab.research.google.com/notebooks/data_table.ipynb>data table notebook</a>'\n",
              "            + ' to learn more about interactive tables.';\n",
              "          element.innerHTML = '';\n",
              "          dataTable['output_type'] = 'display_data';\n",
              "          await google.colab.output.renderOutput(dataTable, element);\n",
              "          const docLink = document.createElement('div');\n",
              "          docLink.innerHTML = docLinkHtml;\n",
              "          element.appendChild(docLink);\n",
              "        }\n",
              "      </script>\n",
              "    </div>\n",
              "  </div>\n",
              "  "
            ]
          },
          "metadata": {},
          "execution_count": 57
        }
      ]
    },
    {
      "cell_type": "code",
      "source": [
        "benchmark.to_csv('leads_predictions.csv') "
      ],
      "metadata": {
        "id": "dty4s0nY95uz"
      },
      "execution_count": 59,
      "outputs": []
    }
  ]
}